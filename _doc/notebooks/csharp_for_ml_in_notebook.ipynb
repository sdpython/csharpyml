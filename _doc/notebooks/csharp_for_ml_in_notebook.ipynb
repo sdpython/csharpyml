{
  "cells": [
    {
      "cell_type": "markdown",
      "metadata": {},
      "source": [
        "# Command line for ML.net\n",
        "\n",
        "[ML.net](https://github.com/dotnet/machinelearning) hides a command line available through DLL Microsoft.ML.Tools."
      ]
    },
    {
      "cell_type": "code",
      "execution_count": 1,
      "metadata": {},
      "outputs": [
        {
          "data": {
            "text/html": [
              "<div id=\"my_id_menu_nb\">run previous cell, wait for 2 seconds</div>\n",
              "<script>\n",
              "function repeat_indent_string(n){\n",
              "    var a = \"\" ;\n",
              "    for ( ; n > 0 ; --n)\n",
              "        a += \"    \";\n",
              "    return a;\n",
              "}\n",
              "// look up into all sections and builds an automated menu //\n",
              "var update_menu_string = function(begin, lfirst, llast, sformat, send, keep_item, begin_format, end_format) {\n",
              "    var anchors = document.getElementsByClassName(\"section\");\n",
              "    if (anchors.length == 0) {\n",
              "        anchors = document.getElementsByClassName(\"text_cell_render rendered_html\");\n",
              "    }\n",
              "    var i,t;\n",
              "    var text_menu = begin;\n",
              "    var text_memo = \"<pre>\\nlength:\" + anchors.length + \"\\n\";\n",
              "    var ind = \"\";\n",
              "    var memo_level = 1;\n",
              "    var href;\n",
              "    var tags = [];\n",
              "    var main_item = 0;\n",
              "    var format_open = 0;\n",
              "    for (i = 0; i <= llast; i++)\n",
              "        tags.push(\"h\" + i);\n",
              "\n",
              "    for (i = 0; i < anchors.length; i++) {\n",
              "        text_memo += \"**\" + anchors[i].id + \"--\\n\";\n",
              "\n",
              "        var child = null;\n",
              "        for(t = 0; t < tags.length; t++) {\n",
              "            var r = anchors[i].getElementsByTagName(tags[t]);\n",
              "            if (r.length > 0) {\n",
              "child = r[0];\n",
              "break;\n",
              "            }\n",
              "        }\n",
              "        if (child == null) {\n",
              "            text_memo += \"null\\n\";\n",
              "            continue;\n",
              "        }\n",
              "        if (anchors[i].hasAttribute(\"id\")) {\n",
              "            // when converted in RST\n",
              "            href = anchors[i].id;\n",
              "            text_memo += \"#1-\" + href;\n",
              "            // passer \u00e0 child suivant (le chercher)\n",
              "        }\n",
              "        else if (child.hasAttribute(\"id\")) {\n",
              "            // in a notebook\n",
              "            href = child.id;\n",
              "            text_memo += \"#2-\" + href;\n",
              "        }\n",
              "        else {\n",
              "            text_memo += \"#3-\" + \"*\" + \"\\n\";\n",
              "            continue;\n",
              "        }\n",
              "        var title = child.textContent;\n",
              "        var level = parseInt(child.tagName.substring(1,2));\n",
              "\n",
              "        text_memo += \"--\" + level + \"?\" + lfirst + \"--\" + title + \"\\n\";\n",
              "\n",
              "        if ((level < lfirst) || (level > llast)) {\n",
              "            continue ;\n",
              "        }\n",
              "        if (title.endsWith('\u00b6')) {\n",
              "            title = title.substring(0,title.length-1).replace(\"<\", \"&lt;\")\n",
              "         .replace(\">\", \"&gt;\").replace(\"&\", \"&amp;\");\n",
              "        }\n",
              "        if (title.length == 0) {\n",
              "            continue;\n",
              "        }\n",
              "\n",
              "        while (level < memo_level) {\n",
              "            text_menu += end_format + \"</ul>\\n\";\n",
              "            format_open -= 1;\n",
              "            memo_level -= 1;\n",
              "        }\n",
              "        if (level == lfirst) {\n",
              "            main_item += 1;\n",
              "        }\n",
              "        if (keep_item != -1 && main_item != keep_item + 1) {\n",
              "            // alert(main_item + \" - \" + level + \" - \" + keep_item);\n",
              "            continue;\n",
              "        }\n",
              "        while (level > memo_level) {\n",
              "            text_menu += \"<ul>\\n\";\n",
              "            memo_level += 1;\n",
              "        }\n",
              "        text_menu += repeat_indent_string(level-2);\n",
              "        text_menu += begin_format + sformat.replace(\"__HREF__\", href).replace(\"__TITLE__\", title);\n",
              "        format_open += 1;\n",
              "    }\n",
              "    while (1 < memo_level) {\n",
              "        text_menu += end_format + \"</ul>\\n\";\n",
              "        memo_level -= 1;\n",
              "        format_open -= 1;\n",
              "    }\n",
              "    text_menu += send;\n",
              "    //text_menu += \"\\n\" + text_memo;\n",
              "\n",
              "    while (format_open > 0) {\n",
              "        text_menu += end_format;\n",
              "        format_open -= 1;\n",
              "    }\n",
              "    return text_menu;\n",
              "};\n",
              "var update_menu = function() {\n",
              "    var sbegin = \"\";\n",
              "    var sformat = '<a href=\"#__HREF__\">__TITLE__</a>';\n",
              "    var send = \"\";\n",
              "    var begin_format = '<li>';\n",
              "    var end_format = '</li>';\n",
              "    var keep_item = -1;\n",
              "    var text_menu = update_menu_string(sbegin, 2, 4, sformat, send, keep_item,\n",
              "       begin_format, end_format);\n",
              "    var menu = document.getElementById(\"my_id_menu_nb\");\n",
              "    menu.innerHTML=text_menu;\n",
              "};\n",
              "window.setTimeout(update_menu,2000);\n",
              "            </script>"
            ],
            "text/plain": [
              "<IPython.core.display.HTML object>"
            ]
          },
          "execution_count": 2,
          "metadata": {},
          "output_type": "execute_result"
        }
      ],
      "source": [
        "from jyquickhelper import add_notebook_menu\n",
        "add_notebook_menu()"
      ]
    },
    {
      "cell_type": "code",
      "execution_count": 2,
      "metadata": {},
      "outputs": [],
      "source": [
        "%matplotlib inline"
      ]
    },
    {
      "cell_type": "markdown",
      "metadata": {},
      "source": [
        "We add magic command ``%%maml``."
      ]
    },
    {
      "cell_type": "code",
      "execution_count": 3,
      "metadata": {},
      "outputs": [],
      "source": [
        "%load_ext csharpyml"
      ]
    },
    {
      "cell_type": "markdown",
      "metadata": {},
      "source": [
        "## Maml help\n",
        "\n",
        "An example on how to get help."
      ]
    },
    {
      "cell_type": "code",
      "execution_count": 4,
      "metadata": {},
      "outputs": [],
      "source": [
        "%%maml -q\n",
        "\n",
        "?"
      ]
    },
    {
      "cell_type": "code",
      "execution_count": 5,
      "metadata": {},
      "outputs": [
        {
          "name": "stdout",
          "output_type": "stream",
          "text": [
            "Help for Command: 'TrainTest'\n",
            "Summary:\n",
            "   Trains a predictor using the train file and then scores and evaluates the predictor using the test file.\n",
            "testFile=<string>                     The test data file (short form test)\n",
            "trainer=<name>{<options>}             Trainer to use (short form tr)\n",
            "scorer=<name>{<options>}              Scorer to use\n",
            "evaluator=<name>{<options>}           Evaluator to use (short form eval)\n",
            "summaryFilename=<string>              Results summary filename (short form sf)\n",
            "featureColumn=<string>                Column to use for features Default value:'Features' (short form feat)\n",
            "labelColumn=<string>                  Column to use for labels Default value:'Label' (short form lab)\n",
            "weightColumn=<string>                 Column to use for example weight Default value:'Weight' (short form weight)\n",
            "groupColumn=<string>                  Column to use for grouping Default value:'GroupId' (short form group)\n",
            "nameColumn=<string>                   Name column name Default value:'Name' (short form name)\n",
            "customColumn[<tag>]=<string>          Columns with custom kinds declared through key assignments, for example,\n",
            "                                      col[Kind]=Name to assign column named 'Name' kind 'Kind' (short form col)\n",
            "normalizeFeatures=[No|Warn|Auto|Yes]  Normalize option for the feature column Default value:'Auto' (short form norm)\n",
            "validationFile=<string>               The validation data file (short form valid)\n",
            "cacheData=[+|-]                       Whether we should cache input training data (short form cache)\n",
            "calibrator=<name>{<options>}          Output calibrator Default value:'Platt' (short form cali)\n",
            "maxCalibrationExamples=<int>          Number of instances to train the calibrator Default value:'1000000000' (short\n",
            "                                      form numcali)\n",
            "outputDataFile=<string>               File to save per-instance predictions and metrics to (short form dout)\n",
            "continueTrain=[+|-]                   Whether we should load predictor from input model and use it as the initial model\n",
            "                                      state Default value:'-' (short form cont)\n",
            "loader=<name>{<options>}              The data loader\n",
            "dataFile=<string>                     The data file (short form data)\n",
            "outputModelFile=<string>              Model file to save (short form out)\n",
            "inputModelFile=<string>               Model file to load (short form in)\n",
            "loadTransforms=[+|-]                  Load transforms from model file? (short form loadTrans)\n",
            "randomSeed=<int>                      Random seed (short form seed)\n",
            "parallel=<int>                        Desired degree of parallelism in the data pipeline (short form n)\n",
            "transform[<tag>]=<name>{<options>}    Transform (short form xf)\n"
          ]
        }
      ],
      "source": [
        "%%maml\n",
        "\n",
        "? traintest"
      ]
    },
    {
      "cell_type": "code",
      "execution_count": 6,
      "metadata": {},
      "outputs": [
        {
          "name": "stdout",
          "output_type": "stream",
          "text": [
            "Available components for kind 'Trainer':\n",
            "  AveragedPerceptron: Averaged Perceptron\n",
            "    Aliases: avgper, ap\n",
            "  BinaryClassificationGamTrainer: Generalized Additive Model for Binary Classification\n",
            "    Aliases: gam\n",
            "  BinarySGD: Hogwild SGD (binary)\n",
            "    Aliases: sgd\n",
            "  EnsembleRegression: Regression Ensemble (bagging, stacking, etc)\n",
            "  FastForestClassification: Fast Forest Classification\n",
            "    Aliases: FastForest, ff, ffc\n",
            "  FastForestRegression: Fast Forest Regression\n",
            "    Aliases: ffr\n",
            "  FastTreeBinaryClassification: FastTree (Boosted Trees) Classification\n",
            "    Aliases: FastTreeClassification, FastTree, ft, ftc, FastRankBinaryClassification, FastRankBinaryClassificationWrapper, FastRankClassification, fr, btc, frc, fastrank, fastrankwrapper\n",
            "  FastTreeRanking: FastTree (Boosted Trees) Ranking\n",
            "    Aliases: ftrank, FastRankRanking, FastRankRankingWrapper, rank, frrank, btrank\n",
            "  FastTreeRegression: FastTree (Boosted Trees) Regression\n",
            "    Aliases: ftr, FastRankRegression, FastRankRegressionWrapper, frr, btr\n",
            "  FastTreeTweedieRegression: FastTree (Boosted Trees) Tweedie Regression\n",
            "    Aliases: fttweedie\n",
            "  FieldAwareFactorizationMachine: Field-aware Factorization Machine\n",
            "    Aliases: ffm\n",
            "  InternalOVA: MultiToBinary\n",
            "    Aliases: iOVA\n",
            "  InternalOVARanker: MultiToRanker\n",
            "    Aliases: iOVArk\n",
            "  KMeansPlusPlus: KMeans++ Clustering\n",
            "    Aliases: KM, KMeans\n",
            "  kNNbc: NearestNeighborsBC\n",
            "    Aliases: kNN\n",
            "  kNNmcl: NearestNeighborsMCC\n",
            "    Aliases: kNNmc\n",
            "  LightGBMBinary: LightGBM Binary Classifier\n",
            "    Aliases: LightGBM\n",
            "  LightGBMMulticlass: LightGBM Multi-class Classifier\n",
            "    Aliases: LightGBMMC\n",
            "  LightGBMRanking: LightGBM Ranking\n",
            "    Aliases: LightGBMRank\n",
            "  LightGBMRegression: LightGBM Regressor\n",
            "    Aliases: LightGBMR\n",
            "  LinearSVM: SVM (Pegasos-Linear)\n",
            "    Aliases: svm\n",
            "  LogisticRegression: Logistic Regression\n",
            "    Aliases: lr, logisticregressionwrapper\n",
            "  MatrixFactorization: Matrix Factorization\n",
            "    Aliases: libmf, mf\n",
            "  MultiClassLogisticRegression: Multi-class Logistic Regression\n",
            "    Aliases: MulticlassLogisticRegressionPredictorNew, mlr, multilr\n",
            "  MultiClassNaiveBayes: Multiclass Naive Bayes\n",
            "    Aliases: MNB\n",
            "  OLSLinearRegression: Ordinary Least Squares (Regression)\n",
            "    Aliases: ols\n",
            "  OnlineGradientDescent: Stochastic Gradient Descent (Regression)\n",
            "    Aliases: ogd, sgdr, stochasticgradientdescentregression\n",
            "  OptimizedOVA: Optimized One-vs-All\n",
            "    Aliases: OOVA\n",
            "  OVA: One-vs-All\n",
            "  pcaAnomaly: PCA Anomaly Detector\n",
            "    Aliases: pcaAnom\n",
            "  PKPD: Pairwise coupling (PKPD)\n",
            "  PoissonRegression: Poisson Regression\n",
            "    Aliases: PoissonRegressionNew, Poisson, PR\n",
            "  PrePost: PPTSP\n",
            "  PriorPredictor: Prior Predictor\n",
            "    Aliases: prior, constant\n",
            "  RandomPredictor: Random Predictor\n",
            "    Aliases: random\n",
            "  RegressionGamTrainer: Generalized Additive Model for Regression\n",
            "    Aliases: gamr\n",
            "  SDCA: Fast Linear (SA-SDCA)\n",
            "    Aliases: LinearClassifier, lc, sasdca\n",
            "  SDCAMC: Fast Linear Multi-class Classification (SA-SDCA)\n",
            "    Aliases: sasdcamc\n",
            "  SDCAR: Fast Linear Regression (SA-SDCA)\n",
            "    Aliases: sasdcar\n",
            "  SymbolicSGD: Symbolic SGD (binary)\n",
            "    Aliases: SymSGD\n",
            "  WeightedEnsemble: Parallel Ensemble (bagging, stacking, etc)\n",
            "    Aliases: pe, ParallelEnsemble\n",
            "  WeightedEnsembleMulticlass: Multi-class Parallel Ensemble (bagging, stacking, etc)\n"
          ]
        }
      ],
      "source": [
        "%%maml\n",
        "\n",
        "? kind=trainer"
      ]
    },
    {
      "cell_type": "markdown",
      "metadata": {},
      "source": [
        "## With Iris\n",
        "\n",
        "We first split the database into train and test."
      ]
    },
    {
      "cell_type": "code",
      "execution_count": 7,
      "metadata": {},
      "outputs": [],
      "source": [
        "from sklearn.datasets import load_iris\n",
        "from sklearn.model_selection import train_test_split\n",
        "from pandas import DataFrame\n",
        "\n",
        "iris = load_iris()\n",
        "X = iris.data\n",
        "y = iris.target\n",
        "df = DataFrame(X, columns=['Slength', 'Swidth', 'Plength', 'Pwidth'])\n",
        "df[\"Label\"] = y\n",
        "df = df[[\"Label\"] + ['Slength', 'Swidth', 'Plength', 'Pwidth']]\n",
        "dftrain, dftest = train_test_split(df)\n",
        "dftrain.to_csv(\"iris_data_id_train.txt\", sep=',', index=False)\n",
        "dftest.to_csv(\"iris_data_id_test.txt\", sep=',', index=False)"
      ]
    },
    {
      "cell_type": "markdown",
      "metadata": {},
      "source": [
        "And we run the [command line of maml](http://www.xavierdupre.fr/app/machinelearningext/helpsphinx/commandline.html) to train and test a multi-logistic regression."
      ]
    },
    {
      "cell_type": "code",
      "execution_count": 8,
      "metadata": {
        "scrolled": false
      },
      "outputs": [
        {
          "name": "stdout",
          "output_type": "stream",
          "text": [
            "maml.exe TrainTest test=iris_data_id_test.txt tr=mlr dout=prediction.txt loader=text{col=Label:U4[0-2]:0 col=Slength:R4:1 col=Swidth:R4:2 col=Plength:R4:3 col=Pwidth:R4:4 sep=, header=+} data=iris_data_id_train.txt out=model.zip xf=Concat{col=Features:Slength,Swidth}\n",
            "Automatically adding a MinMax normalization transform, use 'norm=Warn' or 'norm=No' to turn this behavior off.\n",
            "[1] 'Normalize' started.\n",
            "LBFGS multi-threading will attempt to load dataset into memory. In case of out-of-memory issues, add 'numThreads=1' to the trainer arguments and 'cache=-' to the command line arguments to turn off multi-threading.\n",
            "Beginning optimization\n",
            "num vars: 9\n",
            "improvement criterion: Mean Improvement\n",
            "L1 regularization selected 7 of 9 weights.\n",
            "Not training a calibrator because it is not needed.\n",
            "[1] (00:00.13)\t112 examples\n",
            "[1] 'Normalize' finished in 00:00:00.1384867.\n",
            "[2] 'LBFGS data prep' started.\n",
            "[2] 'LBFGS data prep' finished in 00:00:00.0139603.\n",
            "[3] 'LBFGS Optimizer' started.\n",
            "[3] (00:00.08)\t0 iterations\tLoss: 1.0986123085022\n",
            "[3] (00:00.11)\t1 iterations\tLoss: 1.09413707256317\tImprovement: 0.004475\n",
            "[3] (00:00.12)\t2 iterations\tLoss: 1.08938193321228\tImprovement: 0.004699\n",
            "[3] (00:00.12)\t3 iterations\tLoss: 1.07769966125488\tImprovement: 0.01002\n",
            "[3] (00:00.12)\t4 iterations\tLoss: 1.06019949913025\tImprovement: 0.01565\n",
            "[3] (00:00.12)\t5 iterations\tLoss: 1.03909373283386\tImprovement: 0.01975\n",
            "[3] (00:00.12)\t6 iterations\tLoss: 1.03735148906708\tImprovement: 0.00624\n",
            "[3] (00:00.12)\t7 iterations\tLoss: 1.03154838085175\tImprovement: 0.005912\n",
            "[3] (00:00.12)\t8 iterations\tLoss: 1.03082680702209\tImprovement: 0.002019\n",
            "[3] (00:00.12)\t9 iterations\tLoss: 1.03050768375397\tImprovement: 0.0007441\n",
            "[3] (00:00.12)\t10 iterations\tLoss: 1.03040814399719\tImprovement: 0.0002607\n",
            "[3] (00:00.12)\t11 iterations\tLoss: 1.03019440174103\tImprovement: 0.0002255\n",
            "[3] (00:00.12)\t12 iterations\tLoss: 1.03008687496185\tImprovement: 0.000137\n",
            "[3] (00:00.12)\t13 iterations\tLoss: 1.02975368499756\tImprovement: 0.0002841\n",
            "[3] (00:00.12)\t14 iterations\tLoss: 1.02975368499756\tImprovement: 7.104E-05\n",
            "[3] (00:00.12)\t15 iterations\tLoss: 1.0296037197113\tImprovement: 0.0001302\n",
            "[3] (00:00.12)\t16 iterations\tLoss: 1.02954912185669\tImprovement: 7.351E-05\n",
            "[3] (00:00.12)\t17 iterations\tLoss: 1.02953851222992\tImprovement: 2.633E-05\n",
            "[3] (00:00.12)\t18 iterations\tLoss: 1.02932941913605\tImprovement: 0.0001634\n",
            "[3] (00:00.12)\t19 iterations\tLoss: 1.029181599617\tImprovement: 0.0001517\n",
            "[3] (00:00.12)\t20 iterations\tLoss: 1.02917456626892\tImprovement: 4.32E-05\n",
            "[3] (00:00.12)\t21 iterations\tLoss: 1.02913630008698\tImprovement: 3.95E-05\n",
            "[3] (00:00.12)\t22 iterations\tLoss: 1.02913379669189\tImprovement: 1.175E-05\n",
            "[3] (00:00.12)\t23 iterations\tLoss: 1.02913343906403\tImprovement: 3.206E-06\n",
            "[3] (00:00.12)\t24 iterations\tLoss: 1.02913296222687\tImprovement: 1.159E-06\n",
            "[3] (00:00.12)\t25 iterations\tLoss: 1.02913045883179\tImprovement: 2.167E-06\n",
            "[3] (00:00.12)\t26 iterations\tLoss: 1.02912747859955\tImprovement: 2.777E-06\n",
            "[3] (00:00.12)\t27 iterations\tLoss: 1.02912735939026\tImprovement: 7.837E-07\n",
            "[3] (00:00.12)\t28 iterations\tLoss: 1.0291268825531\tImprovement: 5.535E-07\n",
            "[3] (00:00.12)\t29 iterations\tLoss: 1.0291268825531\tImprovement: 1.384E-07\n",
            "[3] (00:00.12)\t30 iterations\tLoss: 1.0291268825531\tImprovement: 3.46E-08\n",
            "[3] 'LBFGS Optimizer' finished in 00:00:00.1196802.\n",
            "[4] 'Saving model' started.\n",
            "[4] 'Saving model' finished in 00:00:00.2517242.\n",
            "Confusion table\n",
            "          ||========================\n",
            "PREDICTED ||     0 |     1 |     2 | Recall\n",
            "TRUTH     ||========================\n",
            "        0 ||    10 |     1 |     0 | 0.9091\n",
            "        1 ||     0 |    10 |     0 | 1.0000\n",
            "        2 ||     1 |     9 |     7 | 0.4118\n",
            "          ||========================\n",
            "Precision ||0.9091 |0.5000 |1.0000 |\n",
            "Accuracy(micro-avg): 0.710526\n",
            "Accuracy(macro-avg): 0.773619\n",
            "Log-loss:           0.943134\n",
            "Log-loss reduction: 11.858734\n",
            "OVERALL RESULTS\n",
            "---------------------------------------\n",
            "Accuracy(micro-avg): 0.710526 (0.0000)\n",
            "Accuracy(macro-avg): 0.773619 (0.0000)\n",
            "Log-loss:           0.943134 (0.0000)\n",
            "Log-loss reduction: 11.858734 (0.0000)\n",
            "---------------------------------------\n",
            "Physical memory usage(MB): 188\n",
            "Virtual memory usage(MB): 5161\n",
            "28/10/2018 23:38:49\t Time elapsed(s): 1.785\n"
          ]
        }
      ],
      "source": [
        "%%maml\n",
        "\n",
        "traintest\n",
        "data=iris_data_id_train.txt\n",
        "test=iris_data_id_test.txt\n",
        "loader=text{col=Label:U4[0-2]:0 col=Slength:R4:1 col=Swidth:R4:2 col=Plength:R4:3 col=Pwidth:R4:4 sep=, header=+}\n",
        "xf=Concat{col=Features:Slength,Swidth}\n",
        "tr=mlr\n",
        "out=model.zip\n",
        "dout=prediction.txt"
      ]
    },
    {
      "cell_type": "markdown",
      "metadata": {},
      "source": [
        "Let's look at the prediction saved in ``predictions.txt``."
      ]
    },
    {
      "cell_type": "code",
      "execution_count": 9,
      "metadata": {},
      "outputs": [
        {
          "data": {
            "text/html": [
              "<div>\n",
              "<style scoped>\n",
              "    .dataframe tbody tr th:only-of-type {\n",
              "        vertical-align: middle;\n",
              "    }\n",
              "\n",
              "    .dataframe tbody tr th {\n",
              "        vertical-align: top;\n",
              "    }\n",
              "\n",
              "    .dataframe thead th {\n",
              "        text-align: right;\n",
              "    }\n",
              "</style>\n",
              "<table border=\"1\" class=\"dataframe\">\n",
              "  <thead>\n",
              "    <tr style=\"text-align: right;\">\n",
              "      <th></th>\n",
              "      <th>Instance</th>\n",
              "      <th>Label</th>\n",
              "      <th>Assigned</th>\n",
              "      <th>Log-loss</th>\n",
              "      <th>#1 Score</th>\n",
              "      <th>#2 Score</th>\n",
              "      <th>#3 Score</th>\n",
              "      <th>#1 Class</th>\n",
              "      <th>#2 Class</th>\n",
              "      <th>#3 Class</th>\n",
              "    </tr>\n",
              "  </thead>\n",
              "  <tbody>\n",
              "    <tr>\n",
              "      <th>0</th>\n",
              "      <td>0</td>\n",
              "      <td>2</td>\n",
              "      <td>1</td>\n",
              "      <td>1.087029</td>\n",
              "      <td>0.393746</td>\n",
              "      <td>0.337217</td>\n",
              "      <td>0.269037</td>\n",
              "      <td>1</td>\n",
              "      <td>2</td>\n",
              "      <td>0</td>\n",
              "    </tr>\n",
              "    <tr>\n",
              "      <th>1</th>\n",
              "      <td>1</td>\n",
              "      <td>0</td>\n",
              "      <td>0</td>\n",
              "      <td>0.803220</td>\n",
              "      <td>0.447885</td>\n",
              "      <td>0.329037</td>\n",
              "      <td>0.223078</td>\n",
              "      <td>0</td>\n",
              "      <td>1</td>\n",
              "      <td>2</td>\n",
              "    </tr>\n",
              "    <tr>\n",
              "      <th>2</th>\n",
              "      <td>2</td>\n",
              "      <td>1</td>\n",
              "      <td>1</td>\n",
              "      <td>0.885665</td>\n",
              "      <td>0.412440</td>\n",
              "      <td>0.298651</td>\n",
              "      <td>0.288909</td>\n",
              "      <td>1</td>\n",
              "      <td>2</td>\n",
              "      <td>0</td>\n",
              "    </tr>\n",
              "    <tr>\n",
              "      <th>3</th>\n",
              "      <td>3</td>\n",
              "      <td>2</td>\n",
              "      <td>1</td>\n",
              "      <td>1.407576</td>\n",
              "      <td>0.413521</td>\n",
              "      <td>0.341743</td>\n",
              "      <td>0.244736</td>\n",
              "      <td>1</td>\n",
              "      <td>0</td>\n",
              "      <td>2</td>\n",
              "    </tr>\n",
              "    <tr>\n",
              "      <th>4</th>\n",
              "      <td>4</td>\n",
              "      <td>0</td>\n",
              "      <td>0</td>\n",
              "      <td>0.803220</td>\n",
              "      <td>0.447885</td>\n",
              "      <td>0.329037</td>\n",
              "      <td>0.223078</td>\n",
              "      <td>0</td>\n",
              "      <td>1</td>\n",
              "      <td>2</td>\n",
              "    </tr>\n",
              "  </tbody>\n",
              "</table>\n",
              "</div>"
            ],
            "text/plain": [
              "   Instance  Label  Assigned  Log-loss  #1 Score  #2 Score  #3 Score  \\\n",
              "0         0      2         1  1.087029  0.393746  0.337217  0.269037   \n",
              "1         1      0         0  0.803220  0.447885  0.329037  0.223078   \n",
              "2         2      1         1  0.885665  0.412440  0.298651  0.288909   \n",
              "3         3      2         1  1.407576  0.413521  0.341743  0.244736   \n",
              "4         4      0         0  0.803220  0.447885  0.329037  0.223078   \n",
              "\n",
              "   #1 Class  #2 Class  #3 Class  \n",
              "0         1         2         0  \n",
              "1         0         1         2  \n",
              "2         1         2         0  \n",
              "3         1         0         2  \n",
              "4         0         1         2  "
            ]
          },
          "execution_count": 10,
          "metadata": {},
          "output_type": "execute_result"
        }
      ],
      "source": [
        "from pandas import read_csv\n",
        "pred = read_csv(\"prediction.txt\", sep=\"\\t\")\n",
        "pred.head()"
      ]
    },
    {
      "cell_type": "markdown",
      "metadata": {},
      "source": [
        "## With a C# pipeline\n",
        "\n",
        "The class *CSPipeline* wraps class [DataFrame](http://www.xavierdupre.fr/app/machinelearningext/helpsphinx/dataframe.html#dataframe) (C#). Let's rewrite the previous script."
      ]
    },
    {
      "cell_type": "code",
      "execution_count": 10,
      "metadata": {},
      "outputs": [],
      "source": [
        "iris = load_iris()\n",
        "X = iris.data\n",
        "y = iris.target\n",
        "df = DataFrame(X, columns=['Slength', 'Swidth', 'Plength', 'Pwidth'])\n",
        "df[\"Label\"] = y\n",
        "df = df[[\"Label\"] + ['Slength', 'Swidth', 'Plength', 'Pwidth']]\n",
        "dftrain, dftest = train_test_split(df)"
      ]
    },
    {
      "cell_type": "code",
      "execution_count": 11,
      "metadata": {},
      "outputs": [
        {
          "data": {
            "text/plain": [
              "<csharpyml.binaries.cs_pipeline.CSPipeline at 0x24ffbc0a2b0>"
            ]
          },
          "execution_count": 12,
          "metadata": {},
          "output_type": "execute_result"
        }
      ],
      "source": [
        "from csharpyml.binaries import CSPipeline\n",
        "pipe = CSPipeline([\"Concat{col=Features:Slength,Swidth}\"], \"mlr\")\n",
        "pipe"
      ]
    },
    {
      "cell_type": "code",
      "execution_count": 12,
      "metadata": {},
      "outputs": [],
      "source": [
        "try:\n",
        "    pipe.fit(dftrain, \"Features\", \"Label\")\n",
        "except Exception as e:\n",
        "    print(e)"
      ]
    },
    {
      "cell_type": "markdown",
      "metadata": {},
      "source": [
        "The pipeline only allows single float. Columns needs to be converted."
      ]
    },
    {
      "cell_type": "code",
      "execution_count": 13,
      "metadata": {},
      "outputs": [],
      "source": [
        "import numpy\n",
        "df = df.astype(numpy.float32)\n",
        "dftrain, dftest = train_test_split(df)"
      ]
    },
    {
      "cell_type": "code",
      "execution_count": 14,
      "metadata": {},
      "outputs": [],
      "source": [
        "pipe.fit(dftrain, \"Features\", \"Label\")"
      ]
    },
    {
      "cell_type": "markdown",
      "metadata": {},
      "source": [
        "Standard output does not seem to work yet from a notebook."
      ]
    },
    {
      "cell_type": "code",
      "execution_count": 15,
      "metadata": {},
      "outputs": [
        {
          "data": {
            "text/plain": [
              "('', '')"
            ]
          },
          "execution_count": 16,
          "metadata": {},
          "output_type": "execute_result"
        }
      ],
      "source": [
        "pipe.StdOut, pipe.StdErr"
      ]
    },
    {
      "cell_type": "code",
      "execution_count": 16,
      "metadata": {},
      "outputs": [
        {
          "data": {
            "text/html": [
              "<div>\n",
              "<style scoped>\n",
              "    .dataframe tbody tr th:only-of-type {\n",
              "        vertical-align: middle;\n",
              "    }\n",
              "\n",
              "    .dataframe tbody tr th {\n",
              "        vertical-align: top;\n",
              "    }\n",
              "\n",
              "    .dataframe thead th {\n",
              "        text-align: right;\n",
              "    }\n",
              "</style>\n",
              "<table border=\"1\" class=\"dataframe\">\n",
              "  <thead>\n",
              "    <tr style=\"text-align: right;\">\n",
              "      <th></th>\n",
              "      <th>Label</th>\n",
              "      <th>Slength</th>\n",
              "      <th>Swidth</th>\n",
              "      <th>Plength</th>\n",
              "      <th>Pwidth</th>\n",
              "      <th>Features.0</th>\n",
              "      <th>Features.1</th>\n",
              "      <th>PredictedLabel</th>\n",
              "      <th>Score.0</th>\n",
              "      <th>Score.1</th>\n",
              "      <th>Score.2</th>\n",
              "    </tr>\n",
              "  </thead>\n",
              "  <tbody>\n",
              "    <tr>\n",
              "      <th>0</th>\n",
              "      <td>0.0</td>\n",
              "      <td>5.0</td>\n",
              "      <td>3.4</td>\n",
              "      <td>1.5</td>\n",
              "      <td>0.2</td>\n",
              "      <td>5.0</td>\n",
              "      <td>3.4</td>\n",
              "      <td>1</td>\n",
              "      <td>0.876764</td>\n",
              "      <td>0.099520</td>\n",
              "      <td>0.023716</td>\n",
              "    </tr>\n",
              "    <tr>\n",
              "      <th>1</th>\n",
              "      <td>2.0</td>\n",
              "      <td>6.3</td>\n",
              "      <td>3.3</td>\n",
              "      <td>6.0</td>\n",
              "      <td>2.5</td>\n",
              "      <td>6.3</td>\n",
              "      <td>3.3</td>\n",
              "      <td>3</td>\n",
              "      <td>0.094455</td>\n",
              "      <td>0.371040</td>\n",
              "      <td>0.534506</td>\n",
              "    </tr>\n",
              "    <tr>\n",
              "      <th>2</th>\n",
              "      <td>2.0</td>\n",
              "      <td>7.4</td>\n",
              "      <td>2.8</td>\n",
              "      <td>6.1</td>\n",
              "      <td>1.9</td>\n",
              "      <td>7.4</td>\n",
              "      <td>2.8</td>\n",
              "      <td>3</td>\n",
              "      <td>0.000669</td>\n",
              "      <td>0.194964</td>\n",
              "      <td>0.804367</td>\n",
              "    </tr>\n",
              "    <tr>\n",
              "      <th>3</th>\n",
              "      <td>2.0</td>\n",
              "      <td>7.2</td>\n",
              "      <td>3.2</td>\n",
              "      <td>6.0</td>\n",
              "      <td>1.8</td>\n",
              "      <td>7.2</td>\n",
              "      <td>3.2</td>\n",
              "      <td>3</td>\n",
              "      <td>0.003394</td>\n",
              "      <td>0.170807</td>\n",
              "      <td>0.825799</td>\n",
              "    </tr>\n",
              "    <tr>\n",
              "      <th>4</th>\n",
              "      <td>0.0</td>\n",
              "      <td>4.6</td>\n",
              "      <td>3.6</td>\n",
              "      <td>1.0</td>\n",
              "      <td>0.2</td>\n",
              "      <td>4.6</td>\n",
              "      <td>3.6</td>\n",
              "      <td>1</td>\n",
              "      <td>0.974559</td>\n",
              "      <td>0.021820</td>\n",
              "      <td>0.003620</td>\n",
              "    </tr>\n",
              "  </tbody>\n",
              "</table>\n",
              "</div>"
            ],
            "text/plain": [
              "   Label  Slength  Swidth  Plength  Pwidth  Features.0  Features.1  \\\n",
              "0    0.0      5.0     3.4      1.5     0.2         5.0         3.4   \n",
              "1    2.0      6.3     3.3      6.0     2.5         6.3         3.3   \n",
              "2    2.0      7.4     2.8      6.1     1.9         7.4         2.8   \n",
              "3    2.0      7.2     3.2      6.0     1.8         7.2         3.2   \n",
              "4    0.0      4.6     3.6      1.0     0.2         4.6         3.6   \n",
              "\n",
              "   PredictedLabel   Score.0   Score.1   Score.2  \n",
              "0               1  0.876764  0.099520  0.023716  \n",
              "1               3  0.094455  0.371040  0.534506  \n",
              "2               3  0.000669  0.194964  0.804367  \n",
              "3               3  0.003394  0.170807  0.825799  \n",
              "4               1  0.974559  0.021820  0.003620  "
            ]
          },
          "execution_count": 17,
          "metadata": {},
          "output_type": "execute_result"
        }
      ],
      "source": [
        "pred = pipe.predict(dftest)\n",
        "pred.head()"
      ]
    },
    {
      "cell_type": "code",
      "execution_count": 17,
      "metadata": {},
      "outputs": [
        {
          "data": {
            "text/plain": [
              "array([[12,  0,  0],\n",
              "       [ 0,  7,  2],\n",
              "       [ 0,  6, 11]], dtype=int64)"
            ]
          },
          "execution_count": 18,
          "metadata": {},
          "output_type": "execute_result"
        }
      ],
      "source": [
        "from sklearn.metrics import confusion_matrix\n",
        "confusion_matrix(dftest[\"Label\"], pred[\"PredictedLabel\"] - 1)"
      ]
    },
    {
      "cell_type": "markdown",
      "metadata": {},
      "source": [
        "## LightGBM\n",
        "\n",
        "[ML.net](https://github.com/dotnet/machinelearning) wraps [LightGBM](https://github.com/Microsoft/LightGBM). Let's use the following classifier [LightGBM Multi-class Classifier](http://www.xavierdupre.fr/app/machinelearningext/helpsphinx/components/LightGBM_Multi-class_Classifier.html)."
      ]
    },
    {
      "cell_type": "code",
      "execution_count": 18,
      "metadata": {},
      "outputs": [],
      "source": [
        "from csharpyml.binaries import CSPipeline\n",
        "pipe = CSPipeline([\"Concat{col=Features:Slength,Swidth}\"], \"LightGBMMC{iter=10}\")\n",
        "pipe.fit(dftrain, \"Features\", \"Label\")"
      ]
    },
    {
      "cell_type": "code",
      "execution_count": 19,
      "metadata": {},
      "outputs": [
        {
          "data": {
            "text/html": [
              "<div>\n",
              "<style scoped>\n",
              "    .dataframe tbody tr th:only-of-type {\n",
              "        vertical-align: middle;\n",
              "    }\n",
              "\n",
              "    .dataframe tbody tr th {\n",
              "        vertical-align: top;\n",
              "    }\n",
              "\n",
              "    .dataframe thead th {\n",
              "        text-align: right;\n",
              "    }\n",
              "</style>\n",
              "<table border=\"1\" class=\"dataframe\">\n",
              "  <thead>\n",
              "    <tr style=\"text-align: right;\">\n",
              "      <th></th>\n",
              "      <th>Label</th>\n",
              "      <th>Slength</th>\n",
              "      <th>Swidth</th>\n",
              "      <th>Plength</th>\n",
              "      <th>Pwidth</th>\n",
              "      <th>Features.0</th>\n",
              "      <th>Features.1</th>\n",
              "      <th>PredictedLabel</th>\n",
              "      <th>Score.0</th>\n",
              "      <th>Score.1</th>\n",
              "      <th>Score.2</th>\n",
              "    </tr>\n",
              "  </thead>\n",
              "  <tbody>\n",
              "    <tr>\n",
              "      <th>0</th>\n",
              "      <td>0.0</td>\n",
              "      <td>5.0</td>\n",
              "      <td>3.4</td>\n",
              "      <td>1.5</td>\n",
              "      <td>0.2</td>\n",
              "      <td>5.0</td>\n",
              "      <td>3.4</td>\n",
              "      <td>1</td>\n",
              "      <td>0.882854</td>\n",
              "      <td>0.057847</td>\n",
              "      <td>0.059300</td>\n",
              "    </tr>\n",
              "    <tr>\n",
              "      <th>1</th>\n",
              "      <td>2.0</td>\n",
              "      <td>6.3</td>\n",
              "      <td>3.3</td>\n",
              "      <td>6.0</td>\n",
              "      <td>2.5</td>\n",
              "      <td>6.3</td>\n",
              "      <td>3.3</td>\n",
              "      <td>3</td>\n",
              "      <td>0.046021</td>\n",
              "      <td>0.463054</td>\n",
              "      <td>0.490925</td>\n",
              "    </tr>\n",
              "    <tr>\n",
              "      <th>2</th>\n",
              "      <td>2.0</td>\n",
              "      <td>7.4</td>\n",
              "      <td>2.8</td>\n",
              "      <td>6.1</td>\n",
              "      <td>1.9</td>\n",
              "      <td>7.4</td>\n",
              "      <td>2.8</td>\n",
              "      <td>3</td>\n",
              "      <td>0.051758</td>\n",
              "      <td>0.178676</td>\n",
              "      <td>0.769565</td>\n",
              "    </tr>\n",
              "    <tr>\n",
              "      <th>3</th>\n",
              "      <td>2.0</td>\n",
              "      <td>7.2</td>\n",
              "      <td>3.2</td>\n",
              "      <td>6.0</td>\n",
              "      <td>1.8</td>\n",
              "      <td>7.2</td>\n",
              "      <td>3.2</td>\n",
              "      <td>3</td>\n",
              "      <td>0.057311</td>\n",
              "      <td>0.090564</td>\n",
              "      <td>0.852125</td>\n",
              "    </tr>\n",
              "    <tr>\n",
              "      <th>4</th>\n",
              "      <td>0.0</td>\n",
              "      <td>4.6</td>\n",
              "      <td>3.6</td>\n",
              "      <td>1.0</td>\n",
              "      <td>0.2</td>\n",
              "      <td>4.6</td>\n",
              "      <td>3.6</td>\n",
              "      <td>1</td>\n",
              "      <td>0.884034</td>\n",
              "      <td>0.056587</td>\n",
              "      <td>0.059379</td>\n",
              "    </tr>\n",
              "  </tbody>\n",
              "</table>\n",
              "</div>"
            ],
            "text/plain": [
              "   Label  Slength  Swidth  Plength  Pwidth  Features.0  Features.1  \\\n",
              "0    0.0      5.0     3.4      1.5     0.2         5.0         3.4   \n",
              "1    2.0      6.3     3.3      6.0     2.5         6.3         3.3   \n",
              "2    2.0      7.4     2.8      6.1     1.9         7.4         2.8   \n",
              "3    2.0      7.2     3.2      6.0     1.8         7.2         3.2   \n",
              "4    0.0      4.6     3.6      1.0     0.2         4.6         3.6   \n",
              "\n",
              "   PredictedLabel   Score.0   Score.1   Score.2  \n",
              "0               1  0.882854  0.057847  0.059300  \n",
              "1               3  0.046021  0.463054  0.490925  \n",
              "2               3  0.051758  0.178676  0.769565  \n",
              "3               3  0.057311  0.090564  0.852125  \n",
              "4               1  0.884034  0.056587  0.059379  "
            ]
          },
          "execution_count": 20,
          "metadata": {},
          "output_type": "execute_result"
        }
      ],
      "source": [
        "pred2 = pipe.predict(dftest)\n",
        "pred2.head()"
      ]
    },
    {
      "cell_type": "code",
      "execution_count": 20,
      "metadata": {},
      "outputs": [
        {
          "data": {
            "text/plain": [
              "array([[12,  0,  0],\n",
              "       [ 0,  7,  2],\n",
              "       [ 0,  7, 10]], dtype=int64)"
            ]
          },
          "execution_count": 21,
          "metadata": {},
          "output_type": "execute_result"
        }
      ],
      "source": [
        "from sklearn.metrics import confusion_matrix\n",
        "confusion_matrix(dftest[\"Label\"], pred2[\"PredictedLabel\"] - 1)"
      ]
    },
    {
      "cell_type": "code",
      "execution_count": 21,
      "metadata": {},
      "outputs": [
        {
          "data": {
            "image/png": "[encoded data removed]",
            "text/plain": [
              "<Figure size 720x288 with 2 Axes>"
            ]
          },
          "metadata": {
            "needs_background": "light"
          },
          "output_type": "display_data"
        }
      ],
      "source": [
        "from scikitplot.metrics import plot_roc\n",
        "import matplotlib.pyplot as plt\n",
        "fig, ax = plt.subplots(1, 2, figsize=(10,4))\n",
        "plot_roc(dftest[\"Label\"], pred[[\"Score.0\", \"Score.1\", \"Score.2\"]], ax=ax[0])\n",
        "plot_roc(dftest[\"Label\"], pred2[[\"Score.0\", \"Score.1\", \"Score.2\"]], ax=ax[1])\n",
        "ax[0].set_title(\"MLR\")\n",
        "ax[1].set_title(\"LightGBM\");"
      ]
    },
    {
      "cell_type": "code",
      "execution_count": 22,
      "metadata": {},
      "outputs": [],
      "source": []
    }
  ],
  "metadata": {
    "kernelspec": {
      "display_name": "Python 3",
      "language": "python",
      "name": "python3"
    },
    "language_info": {
      "codemirror_mode": {
        "name": "ipython",
        "version": 3
      },
      "file_extension": ".py",
      "mimetype": "text/x-python",
      "name": "python",
      "nbconvert_exporter": "python",
      "pygments_lexer": "ipython3",
      "version": "3.7.0"
    }
  },
  "nbformat": 4,
  "nbformat_minor": 1
}