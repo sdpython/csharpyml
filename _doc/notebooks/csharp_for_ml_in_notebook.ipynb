{
  "cells": [
    {
      "cell_type": "markdown",
      "metadata": {},
      "source": [
        "# Command line for ML.net\n",
        "\n",
        "[ML.net](https://github.com/dotnet/machinelearning) hides a command line available through DLL Microsoft.ML.Tools."
      ]
    },
    {
      "cell_type": "code",
      "execution_count": 1,
      "metadata": {},
      "outputs": [
        {
          "data": {
            "text/html": [
              "<div id=\"my_id_menu_nb\">run previous cell, wait for 2 seconds</div>\n",
              "<script>\n",
              "function repeat_indent_string(n){\n",
              "    var a = \"\" ;\n",
              "    for ( ; n > 0 ; --n)\n",
              "        a += \"    \";\n",
              "    return a;\n",
              "}\n",
              "// look up into all sections and builds an automated menu //\n",
              "var update_menu_string = function(begin, lfirst, llast, sformat, send, keep_item, begin_format, end_format) {\n",
              "    var anchors = document.getElementsByClassName(\"section\");\n",
              "    if (anchors.length == 0) {\n",
              "        anchors = document.getElementsByClassName(\"text_cell_render rendered_html\");\n",
              "    }\n",
              "    var i,t;\n",
              "    var text_menu = begin;\n",
              "    var text_memo = \"<pre>\\nlength:\" + anchors.length + \"\\n\";\n",
              "    var ind = \"\";\n",
              "    var memo_level = 1;\n",
              "    var href;\n",
              "    var tags = [];\n",
              "    var main_item = 0;\n",
              "    var format_open = 0;\n",
              "    for (i = 0; i <= llast; i++)\n",
              "        tags.push(\"h\" + i);\n",
              "\n",
              "    for (i = 0; i < anchors.length; i++) {\n",
              "        text_memo += \"**\" + anchors[i].id + \"--\\n\";\n",
              "\n",
              "        var child = null;\n",
              "        for(t = 0; t < tags.length; t++) {\n",
              "            var r = anchors[i].getElementsByTagName(tags[t]);\n",
              "            if (r.length > 0) {\n",
              "child = r[0];\n",
              "break;\n",
              "            }\n",
              "        }\n",
              "        if (child == null) {\n",
              "            text_memo += \"null\\n\";\n",
              "            continue;\n",
              "        }\n",
              "        if (anchors[i].hasAttribute(\"id\")) {\n",
              "            // when converted in RST\n",
              "            href = anchors[i].id;\n",
              "            text_memo += \"#1-\" + href;\n",
              "            // passer \u00e0 child suivant (le chercher)\n",
              "        }\n",
              "        else if (child.hasAttribute(\"id\")) {\n",
              "            // in a notebook\n",
              "            href = child.id;\n",
              "            text_memo += \"#2-\" + href;\n",
              "        }\n",
              "        else {\n",
              "            text_memo += \"#3-\" + \"*\" + \"\\n\";\n",
              "            continue;\n",
              "        }\n",
              "        var title = child.textContent;\n",
              "        var level = parseInt(child.tagName.substring(1,2));\n",
              "\n",
              "        text_memo += \"--\" + level + \"?\" + lfirst + \"--\" + title + \"\\n\";\n",
              "\n",
              "        if ((level < lfirst) || (level > llast)) {\n",
              "            continue ;\n",
              "        }\n",
              "        if (title.endsWith('\u00b6')) {\n",
              "            title = title.substring(0,title.length-1).replace(\"<\", \"&lt;\")\n",
              "         .replace(\">\", \"&gt;\").replace(\"&\", \"&amp;\");\n",
              "        }\n",
              "        if (title.length == 0) {\n",
              "            continue;\n",
              "        }\n",
              "\n",
              "        while (level < memo_level) {\n",
              "            text_menu += end_format + \"</ul>\\n\";\n",
              "            format_open -= 1;\n",
              "            memo_level -= 1;\n",
              "        }\n",
              "        if (level == lfirst) {\n",
              "            main_item += 1;\n",
              "        }\n",
              "        if (keep_item != -1 && main_item != keep_item + 1) {\n",
              "            // alert(main_item + \" - \" + level + \" - \" + keep_item);\n",
              "            continue;\n",
              "        }\n",
              "        while (level > memo_level) {\n",
              "            text_menu += \"<ul>\\n\";\n",
              "            memo_level += 1;\n",
              "        }\n",
              "        text_menu += repeat_indent_string(level-2);\n",
              "        text_menu += begin_format + sformat.replace(\"__HREF__\", href).replace(\"__TITLE__\", title);\n",
              "        format_open += 1;\n",
              "    }\n",
              "    while (1 < memo_level) {\n",
              "        text_menu += end_format + \"</ul>\\n\";\n",
              "        memo_level -= 1;\n",
              "        format_open -= 1;\n",
              "    }\n",
              "    text_menu += send;\n",
              "    //text_menu += \"\\n\" + text_memo;\n",
              "\n",
              "    while (format_open > 0) {\n",
              "        text_menu += end_format;\n",
              "        format_open -= 1;\n",
              "    }\n",
              "    return text_menu;\n",
              "};\n",
              "var update_menu = function() {\n",
              "    var sbegin = \"\";\n",
              "    var sformat = '<a href=\"#__HREF__\">__TITLE__</a>';\n",
              "    var send = \"\";\n",
              "    var begin_format = '<li>';\n",
              "    var end_format = '</li>';\n",
              "    var keep_item = -1;\n",
              "    var text_menu = update_menu_string(sbegin, 2, 4, sformat, send, keep_item,\n",
              "       begin_format, end_format);\n",
              "    var menu = document.getElementById(\"my_id_menu_nb\");\n",
              "    menu.innerHTML=text_menu;\n",
              "};\n",
              "window.setTimeout(update_menu,2000);\n",
              "            </script>"
            ],
            "text/plain": [
              "<IPython.core.display.HTML object>"
            ]
          },
          "execution_count": 2,
          "metadata": {},
          "output_type": "execute_result"
        }
      ],
      "source": [
        "from jyquickhelper import add_notebook_menu\n",
        "add_notebook_menu()"
      ]
    },
    {
      "cell_type": "code",
      "execution_count": 2,
      "metadata": {},
      "outputs": [],
      "source": [
        "%matplotlib inline"
      ]
    },
    {
      "cell_type": "markdown",
      "metadata": {},
      "source": [
        "We add magic command ``%%maml``."
      ]
    },
    {
      "cell_type": "code",
      "execution_count": 3,
      "metadata": {},
      "outputs": [],
      "source": [
        "%load_ext csharpyml"
      ]
    },
    {
      "cell_type": "markdown",
      "metadata": {},
      "source": [
        "## Maml help\n",
        "\n",
        "An example on how to get help."
      ]
    },
    {
      "cell_type": "code",
      "execution_count": 4,
      "metadata": {},
      "outputs": [],
      "source": [
        "%%maml -q\n",
        "\n",
        "?"
      ]
    },
    {
      "cell_type": "code",
      "execution_count": 5,
      "metadata": {},
      "outputs": [
        {
          "name": "stdout",
          "output_type": "stream",
          "text": [
            "Help for Command: 'TrainTest'\n",
            "Summary:\n",
            "   Trains a predictor using the train file and then scores and evaluates the predictor using the test file.\n",
            "testFile=<string>                     The test data file (short form test)\n",
            "trainer=<name>{<options>}             Trainer to use (short form tr)\n",
            "scorer=<name>{<options>}              Scorer to use\n",
            "evaluator=<name>{<options>}           Evaluator to use (short form eval)\n",
            "summaryFilename=<string>              Results summary filename (short form sf)\n",
            "featureColumn=<string>                Column to use for features Default value:'Features' (short form feat)\n",
            "labelColumn=<string>                  Column to use for labels Default value:'Label' (short form lab)\n",
            "weightColumn=<string>                 Column to use for example weight Default value:'Weight' (short form weight)\n",
            "groupColumn=<string>                  Column to use for grouping Default value:'GroupId' (short form group)\n",
            "nameColumn=<string>                   Name column name Default value:'Name' (short form name)\n",
            "customColumn[<tag>]=<string>          Columns with custom kinds declared through key assignments, for example,\n",
            "                                      col[Kind]=Name to assign column named 'Name' kind 'Kind' (short form col)\n",
            "normalizeFeatures=[No|Warn|Auto|Yes]  Normalize option for the feature column Default value:'Auto' (short form norm)\n",
            "validationFile=<string>               The validation data file (short form valid)\n",
            "cacheData=[+|-]                       Whether we should cache input training data (short form cache)\n",
            "calibrator=<name>{<options>}          Output calibrator Default value:'Platt' (short form cali)\n",
            "maxCalibrationExamples=<int>          Number of instances to train the calibrator Default value:'1000000000' (short\n",
            "                                      form numcali)\n",
            "outputDataFile=<string>               File to save per-instance predictions and metrics to (short form dout)\n",
            "continueTrain=[+|-]                   Whether we should load predictor from input model and use it as the initial model\n",
            "                                      state Default value:'-' (short form cont)\n",
            "loader=<name>{<options>}              The data loader\n",
            "dataFile=<string>                     The data file (short form data)\n",
            "outputModelFile=<string>              Model file to save (short form out)\n",
            "inputModelFile=<string>               Model file to load (short form in)\n",
            "loadTransforms=[+|-]                  Load transforms from model file? (short form loadTrans)\n",
            "randomSeed=<int>                      Random seed (short form seed)\n",
            "parallel=<int>                        Desired degree of parallelism in the data pipeline (short form n)\n",
            "transform[<tag>]=<name>{<options>}    Transform (short form xf)\n"
          ]
        }
      ],
      "source": [
        "%%maml\n",
        "\n",
        "? traintest"
      ]
    },
    {
      "cell_type": "code",
      "execution_count": 6,
      "metadata": {},
      "outputs": [
        {
          "name": "stdout",
          "output_type": "stream",
          "text": [
            "Available components for kind 'Trainer':\n",
            "  AveragedPerceptron: Averaged Perceptron\n",
            "    Aliases: avgper, ap\n",
            "  BinaryClassificationGamTrainer: Generalized Additive Model for Binary Classification\n",
            "    Aliases: gam\n",
            "  BinarySGD: Hogwild SGD (binary)\n",
            "    Aliases: sgd\n",
            "  EnsembleRegression: Regression Ensemble (bagging, stacking, etc)\n",
            "  FastForestClassification: Fast Forest Classification\n",
            "    Aliases: FastForest, ff, ffc\n",
            "  FastForestRegression: Fast Forest Regression\n",
            "    Aliases: ffr\n",
            "  FastTreeBinaryClassification: FastTree (Boosted Trees) Classification\n",
            "    Aliases: FastTreeClassification, FastTree, ft, ftc, FastRankBinaryClassification, FastRankBinaryClassificationWrapper, FastRankClassification, fr, btc, frc, fastrank, fastrankwrapper\n",
            "  FastTreeRanking: FastTree (Boosted Trees) Ranking\n",
            "    Aliases: ftrank, FastRankRanking, FastRankRankingWrapper, rank, frrank, btrank\n",
            "  FastTreeRegression: FastTree (Boosted Trees) Regression\n",
            "    Aliases: ftr, FastRankRegression, FastRankRegressionWrapper, frr, btr\n",
            "  FastTreeTweedieRegression: FastTree (Boosted Trees) Tweedie Regression\n",
            "    Aliases: fttweedie\n",
            "  FieldAwareFactorizationMachine: Field-aware Factorization Machine\n",
            "    Aliases: ffm\n",
            "  InternalOVA: MultiToBinary\n",
            "    Aliases: iOVA\n",
            "  InternalOVARanker: MultiToRanker\n",
            "    Aliases: iOVArk\n",
            "  KMeansPlusPlus: KMeans++ Clustering\n",
            "    Aliases: KM, KMeans\n",
            "  kNNbc: NearestNeighborsBC\n",
            "    Aliases: kNN\n",
            "  kNNmcl: NearestNeighborsMCC\n",
            "    Aliases: kNNmc\n",
            "  LightGBMBinary: LightGBM Binary Classifier\n",
            "    Aliases: LightGBM\n",
            "  LightGBMMulticlass: LightGBM Multi-class Classifier\n",
            "    Aliases: LightGBMMC\n",
            "  LightGBMRanking: LightGBM Ranking\n",
            "    Aliases: LightGBMRank\n",
            "  LightGBMRegression: LightGBM Regressor\n",
            "    Aliases: LightGBMR\n",
            "  LinearSVM: SVM (Pegasos-Linear)\n",
            "    Aliases: svm\n",
            "  LogisticRegression: Logistic Regression\n",
            "    Aliases: lr, logisticregressionwrapper\n",
            "  MatrixFactorization: Matrix Factorization\n",
            "    Aliases: libmf, mf\n",
            "  MultiClassLogisticRegression: Multi-class Logistic Regression\n",
            "    Aliases: MulticlassLogisticRegressionPredictorNew, mlr, multilr\n",
            "  MultiClassNaiveBayes: Multiclass Naive Bayes\n",
            "    Aliases: MNB\n",
            "  OLSLinearRegression: Ordinary Least Squares (Regression)\n",
            "    Aliases: ols\n",
            "  OnlineGradientDescent: Stochastic Gradient Descent (Regression)\n",
            "    Aliases: ogd, sgdr, stochasticgradientdescentregression\n",
            "  OptimizedOVA: Optimized One-vs-All\n",
            "    Aliases: OOVA\n",
            "  OVA: One-vs-All\n",
            "  pcaAnomaly: PCA Anomaly Detector\n",
            "    Aliases: pcaAnom\n",
            "  PKPD: Pairwise coupling (PKPD)\n",
            "  PoissonRegression: Poisson Regression\n",
            "    Aliases: PoissonRegressionNew, Poisson, PR\n",
            "  PrePost: PPTSP\n",
            "  PriorPredictor: Prior Predictor\n",
            "    Aliases: prior, constant\n",
            "  RandomPredictor: Random Predictor\n",
            "    Aliases: random\n",
            "  RegressionGamTrainer: Generalized Additive Model for Regression\n",
            "    Aliases: gamr\n",
            "  SDCA: Fast Linear (SA-SDCA)\n",
            "    Aliases: LinearClassifier, lc, sasdca\n",
            "  SDCAMC: Fast Linear Multi-class Classification (SA-SDCA)\n",
            "    Aliases: sasdcamc\n",
            "  SDCAR: Fast Linear Regression (SA-SDCA)\n",
            "    Aliases: sasdcar\n",
            "  SymbolicSGD: Symbolic SGD (binary)\n",
            "    Aliases: SymSGD\n",
            "  WeightedEnsemble: Parallel Ensemble (bagging, stacking, etc)\n",
            "    Aliases: pe, ParallelEnsemble\n",
            "  WeightedEnsembleMulticlass: Multi-class Parallel Ensemble (bagging, stacking, etc)\n"
          ]
        }
      ],
      "source": [
        "%%maml\n",
        "\n",
        "? kind=trainer"
      ]
    },
    {
      "cell_type": "markdown",
      "metadata": {},
      "source": [
        "## With Iris\n",
        "\n",
        "We first split the database into train and test."
      ]
    },
    {
      "cell_type": "code",
      "execution_count": 7,
      "metadata": {},
      "outputs": [],
      "source": [
        "from sklearn.datasets import load_iris\n",
        "from sklearn.model_selection import train_test_split\n",
        "from pandas import DataFrame\n",
        "\n",
        "iris = load_iris()\n",
        "X = iris.data\n",
        "y = iris.target\n",
        "df = DataFrame(X, columns=['Slength', 'Swidth', 'Plength', 'Pwidth'])\n",
        "df[\"Label\"] = y\n",
        "df = df[[\"Label\"] + ['Slength', 'Swidth', 'Plength', 'Pwidth']]\n",
        "dftrain, dftest = train_test_split(df)\n",
        "dftrain.to_csv(\"iris_data_id_train.txt\", sep=',', index=False)\n",
        "dftest.to_csv(\"iris_data_id_test.txt\", sep=',', index=False)"
      ]
    },
    {
      "cell_type": "markdown",
      "metadata": {},
      "source": [
        "And we run the [command line of maml](http://www.xavierdupre.fr/app/machinelearningext/helpsphinx/commandline.html) to train and test a multi-logistic regression."
      ]
    },
    {
      "cell_type": "code",
      "execution_count": 8,
      "metadata": {
        "scrolled": false
      },
      "outputs": [
        {
          "name": "stdout",
          "output_type": "stream",
          "text": [
            "maml.exe TrainTest test=iris_data_id_test.txt tr=mlr dout=prediction.txt loader=text{col=Label:U4[0-2]:0 col=Slength:R4:1 col=Swidth:R4:2 col=Plength:R4:3 col=Pwidth:R4:4 sep=, header=+} data=iris_data_id_train.txt out=model.zip xf=Concat{col=Features:Slength,Swidth}\n",
            "Automatically adding a MinMax normalization transform, use 'norm=Warn' or 'norm=No' to turn this behavior off.\n",
            "LBFGS multi-threading will attempt to load dataset into memory. In case of out-of-memory issues, add 'numThreads=1' to the trainer arguments and 'cache=-' to the command line arguments to turn off multi-threading.\n",
            "Beginning optimization\n",
            "num vars: 9\n",
            "improvement criterion: Mean Improvement\n",
            "L1 regularization selected 7 of 9 weights.\n",
            "Not training a calibrator because it is not needed.\n",
            "[1] 'Normalize' started.\n",
            "[1] (00:00.07)\t112 examples\n",
            "[1] 'Normalize' finished in 00:00:00.0787882.\n",
            "[2] 'LBFGS data prep' started.\n",
            "[2] 'LBFGS data prep' finished in 00:00:00.0049869.\n",
            "[3] 'LBFGS Optimizer' started.\n",
            "[3] (00:00.04)\t0 iterations\tLoss: 1.0986123085022\n",
            "[3] (00:00.06)\t1 iterations\tLoss: 1.09148681163788\tImprovement: 0.007125\n",
            "[3] (00:00.06)\t2 iterations\tLoss: 1.0862922668457\tImprovement: 0.005581\n",
            "[3] (00:00.06)\t3 iterations\tLoss: 1.06757915019989\tImprovement: 0.01559\n",
            "[3] (00:00.06)\t4 iterations\tLoss: 1.02218282222748\tImprovement: 0.03803\n",
            "[3] (00:00.06)\t5 iterations\tLoss: 1.02105188369751\tImprovement: 0.01033\n",
            "[3] (00:00.06)\t6 iterations\tLoss: 1.01796638965607\tImprovement: 0.004895\n",
            "[3] (00:00.06)\t7 iterations\tLoss: 1.01713824272156\tImprovement: 0.001845\n",
            "[3] (00:00.06)\t8 iterations\tLoss: 1.01687109470367\tImprovement: 0.0006615\n",
            "[3] (00:00.06)\t9 iterations\tLoss: 1.01658833026886\tImprovement: 0.0003775\n",
            "[3] (00:00.06)\t10 iterations\tLoss: 1.01349747180939\tImprovement: 0.002413\n",
            "[3] (00:00.06)\t11 iterations\tLoss: 1.01291561126709\tImprovement: 0.00104\n",
            "[3] (00:00.06)\t12 iterations\tLoss: 1.01230597496033\tImprovement: 0.0007171\n",
            "[3] (00:00.06)\t13 iterations\tLoss: 1.01218962669373\tImprovement: 0.0002665\n",
            "[3] (00:00.06)\t14 iterations\tLoss: 1.01216590404511\tImprovement: 8.443E-05\n",
            "[3] (00:00.06)\t15 iterations\tLoss: 1.01214194297791\tImprovement: 3.908E-05\n",
            "[3] (00:00.06)\t16 iterations\tLoss: 1.01163256168365\tImprovement: 0.0003918\n",
            "[3] (00:00.06)\t17 iterations\tLoss: 1.01159369945526\tImprovement: 0.0001271\n",
            "[3] (00:00.06)\t18 iterations\tLoss: 1.01158392429352\tImprovement: 3.911E-05\n",
            "[3] (00:00.06)\t19 iterations\tLoss: 1.0115829706192\tImprovement: 1.049E-05\n",
            "[3] (00:00.06)\t20 iterations\tLoss: 1.01157701015472\tImprovement: 7.093E-06\n",
            "[3] (00:00.06)\t21 iterations\tLoss: 1.01157057285309\tImprovement: 6.601E-06\n",
            "[3] (00:00.06)\t22 iterations\tLoss: 1.01156258583069\tImprovement: 7.641E-06\n",
            "[3] (00:00.06)\t23 iterations\tLoss: 1.01156222820282\tImprovement: 2.178E-06\n",
            "[3] (00:00.06)\t24 iterations\tLoss: 1.01156210899353\tImprovement: 6.34E-07\n",
            "[3] (00:00.06)\t25 iterations\tLoss: 1.01156210899353\tImprovement: 1.585E-07\n",
            "[3] (00:00.06)\t26 iterations\tLoss: 1.01156210899353\tImprovement: 3.962E-08\n",
            "[3] 'LBFGS Optimizer' finished in 00:00:00.0618349.\n",
            "[4] 'Saving model' started.\n",
            "Confusion table\n",
            "          ||========================\n",
            "PREDICTED ||     0 |     1 |     2 | Recall\n",
            "TRUTH     ||========================\n",
            "        0 ||    10 |     0 |     0 | 1.0000\n",
            "        1 ||     5 |     3 |     9 | 0.1765\n",
            "        2 ||     0 |     0 |    11 | 1.0000\n",
            "          ||========================\n",
            "Precision ||0.6667 |1.0000 |0.5500 |\n",
            "Accuracy(micro-avg): 0.631579\n",
            "Accuracy(macro-avg): 0.725490\n",
            "Log-loss:           0.970542\n",
            "Log-loss reduction: 9.297212\n",
            "OVERALL RESULTS\n",
            "---------------------------------------\n",
            "Accuracy(micro-avg): 0.631579 (0.0000)\n",
            "Accuracy(macro-avg): 0.725490 (0.0000)\n",
            "Log-loss:           0.970542 (0.0000)\n",
            "Log-loss reduction: 9.297212 (0.0000)\n",
            "---------------------------------------\n",
            "Physical memory usage(MB): 201\n",
            "Virtual memory usage(MB): 5169\n",
            "29/10/2018 12:07:35\t Time elapsed(s): 1.103\n",
            "[4] 'Saving model' finished in 00:00:00.1447530.\n"
          ]
        }
      ],
      "source": [
        "%%maml\n",
        "\n",
        "traintest\n",
        "data=iris_data_id_train.txt\n",
        "test=iris_data_id_test.txt\n",
        "loader=text{col=Label:U4[0-2]:0 col=Slength:R4:1 col=Swidth:R4:2 col=Plength:R4:3 col=Pwidth:R4:4 sep=, header=+}\n",
        "xf=Concat{col=Features:Slength,Swidth}\n",
        "tr=mlr\n",
        "out=model.zip\n",
        "dout=prediction.txt"
      ]
    },
    {
      "cell_type": "markdown",
      "metadata": {},
      "source": [
        "Let's look at the prediction saved in ``predictions.txt``."
      ]
    },
    {
      "cell_type": "code",
      "execution_count": 9,
      "metadata": {},
      "outputs": [
        {
          "data": {
            "text/html": [
              "<div>\n",
              "<style scoped>\n",
              "    .dataframe tbody tr th:only-of-type {\n",
              "        vertical-align: middle;\n",
              "    }\n",
              "\n",
              "    .dataframe tbody tr th {\n",
              "        vertical-align: top;\n",
              "    }\n",
              "\n",
              "    .dataframe thead th {\n",
              "        text-align: right;\n",
              "    }\n",
              "</style>\n",
              "<table border=\"1\" class=\"dataframe\">\n",
              "  <thead>\n",
              "    <tr style=\"text-align: right;\">\n",
              "      <th></th>\n",
              "      <th>Instance</th>\n",
              "      <th>Label</th>\n",
              "      <th>Assigned</th>\n",
              "      <th>Log-loss</th>\n",
              "      <th>#1 Score</th>\n",
              "      <th>#2 Score</th>\n",
              "      <th>#3 Score</th>\n",
              "      <th>#1 Class</th>\n",
              "      <th>#2 Class</th>\n",
              "      <th>#3 Class</th>\n",
              "    </tr>\n",
              "  </thead>\n",
              "  <tbody>\n",
              "    <tr>\n",
              "      <th>0</th>\n",
              "      <td>0</td>\n",
              "      <td>1</td>\n",
              "      <td>2</td>\n",
              "      <td>1.094488</td>\n",
              "      <td>0.367762</td>\n",
              "      <td>0.334711</td>\n",
              "      <td>0.297528</td>\n",
              "      <td>2</td>\n",
              "      <td>1</td>\n",
              "      <td>0</td>\n",
              "    </tr>\n",
              "    <tr>\n",
              "      <th>1</th>\n",
              "      <td>1</td>\n",
              "      <td>1</td>\n",
              "      <td>0</td>\n",
              "      <td>1.187667</td>\n",
              "      <td>0.367828</td>\n",
              "      <td>0.327240</td>\n",
              "      <td>0.304932</td>\n",
              "      <td>0</td>\n",
              "      <td>2</td>\n",
              "      <td>1</td>\n",
              "    </tr>\n",
              "    <tr>\n",
              "      <th>2</th>\n",
              "      <td>2</td>\n",
              "      <td>0</td>\n",
              "      <td>0</td>\n",
              "      <td>0.729780</td>\n",
              "      <td>0.482015</td>\n",
              "      <td>0.272711</td>\n",
              "      <td>0.245274</td>\n",
              "      <td>0</td>\n",
              "      <td>1</td>\n",
              "      <td>2</td>\n",
              "    </tr>\n",
              "    <tr>\n",
              "      <th>3</th>\n",
              "      <td>3</td>\n",
              "      <td>0</td>\n",
              "      <td>0</td>\n",
              "      <td>0.640479</td>\n",
              "      <td>0.527040</td>\n",
              "      <td>0.289975</td>\n",
              "      <td>0.182985</td>\n",
              "      <td>0</td>\n",
              "      <td>2</td>\n",
              "      <td>1</td>\n",
              "    </tr>\n",
              "    <tr>\n",
              "      <th>4</th>\n",
              "      <td>4</td>\n",
              "      <td>0</td>\n",
              "      <td>0</td>\n",
              "      <td>0.829536</td>\n",
              "      <td>0.436252</td>\n",
              "      <td>0.299313</td>\n",
              "      <td>0.264436</td>\n",
              "      <td>0</td>\n",
              "      <td>2</td>\n",
              "      <td>1</td>\n",
              "    </tr>\n",
              "  </tbody>\n",
              "</table>\n",
              "</div>"
            ],
            "text/plain": [
              "   Instance  Label  Assigned  Log-loss  #1 Score  #2 Score  #3 Score  \\\n",
              "0         0      1         2  1.094488  0.367762  0.334711  0.297528   \n",
              "1         1      1         0  1.187667  0.367828  0.327240  0.304932   \n",
              "2         2      0         0  0.729780  0.482015  0.272711  0.245274   \n",
              "3         3      0         0  0.640479  0.527040  0.289975  0.182985   \n",
              "4         4      0         0  0.829536  0.436252  0.299313  0.264436   \n",
              "\n",
              "   #1 Class  #2 Class  #3 Class  \n",
              "0         2         1         0  \n",
              "1         0         2         1  \n",
              "2         0         1         2  \n",
              "3         0         2         1  \n",
              "4         0         2         1  "
            ]
          },
          "execution_count": 10,
          "metadata": {},
          "output_type": "execute_result"
        }
      ],
      "source": [
        "from pandas import read_csv\n",
        "pred = read_csv(\"prediction.txt\", sep=\"\\t\")\n",
        "pred.head()"
      ]
    },
    {
      "cell_type": "markdown",
      "metadata": {},
      "source": [
        "## With a C# pipeline\n",
        "\n",
        "The class *CSPipeline* wraps class [DataFrame](http://www.xavierdupre.fr/app/machinelearningext/helpsphinx/dataframe.html#dataframe) (C#). Let's rewrite the previous script."
      ]
    },
    {
      "cell_type": "code",
      "execution_count": 10,
      "metadata": {},
      "outputs": [],
      "source": [
        "iris = load_iris()\n",
        "X = iris.data\n",
        "y = iris.target\n",
        "df = DataFrame(X, columns=['Slength', 'Swidth', 'Plength', 'Pwidth'])\n",
        "df[\"Label\"] = y\n",
        "df = df[[\"Label\"] + ['Slength', 'Swidth', 'Plength', 'Pwidth']]\n",
        "dftrain, dftest = train_test_split(df)"
      ]
    },
    {
      "cell_type": "markdown",
      "metadata": {},
      "source": [
        "Let's then create a pipeline and tell that that we would like information about the training (``verbose=2``)."
      ]
    },
    {
      "cell_type": "code",
      "execution_count": 11,
      "metadata": {},
      "outputs": [
        {
          "data": {
            "text/plain": [
              "<csharpyml.binaries.cs_pipeline.CSPipeline at 0x2147700e518>"
            ]
          },
          "execution_count": 12,
          "metadata": {},
          "output_type": "execute_result"
        }
      ],
      "source": [
        "from csharpyml.binaries import CSPipeline\n",
        "pipe = CSPipeline([\"Concat{col=Features:Slength,Swidth}\"], \"mlr\", verbose=2)\n",
        "pipe"
      ]
    },
    {
      "cell_type": "code",
      "execution_count": 12,
      "metadata": {},
      "outputs": [],
      "source": [
        "try:\n",
        "    pipe.fit(dftrain, \"Features\", \"Label\")\n",
        "except Exception as e:\n",
        "    print(e)"
      ]
    },
    {
      "cell_type": "markdown",
      "metadata": {},
      "source": [
        "The pipeline only allows single float. Columns needs to be converted."
      ]
    },
    {
      "cell_type": "code",
      "execution_count": 13,
      "metadata": {},
      "outputs": [],
      "source": [
        "import numpy\n",
        "df = df.astype(numpy.float32)\n",
        "dftrain, dftest = train_test_split(df)"
      ]
    },
    {
      "cell_type": "code",
      "execution_count": 14,
      "metadata": {},
      "outputs": [],
      "source": [
        "pipe.fit(dftrain, \"Features\", \"Label\")"
      ]
    },
    {
      "cell_type": "markdown",
      "metadata": {},
      "source": [
        "Less display. One reason is the pipeline only did the training."
      ]
    },
    {
      "cell_type": "code",
      "execution_count": 15,
      "metadata": {},
      "outputs": [
        {
          "name": "stdout",
          "output_type": "stream",
          "text": [
            "LBFGS multi-threading will attempt to load dataset into memory. In case of out-of-memory issues, add 'numThreads=1' to the trainer arguments and 'cache=-' to the command line arguments to turn off multi-threading.\n",
            "Beginning optimization\n",
            "num vars: 9\n",
            "improvement criterion: Mean Improvement\n",
            "L1 regularization selected 7 of 9 weights.\n",
            "Not training a calibrator because it is not needed.\n",
            "LBFGS multi-threading will attempt to load dataset into memory. In case of out-of-memory issues, add 'numThreads=1' to the trainer arguments and 'cache=-' to the command line arguments to turn off multi-threading.\n",
            "Beginning optimization\n",
            "num vars: 9\n",
            "improvement criterion: Mean Improvement\n",
            "L1 regularization selected 9 of 9 weights.\n",
            "Not training a calibrator because it is not needed.\n",
            "\n"
          ]
        }
      ],
      "source": [
        "print(pipe.StdOut)"
      ]
    },
    {
      "cell_type": "code",
      "execution_count": 16,
      "metadata": {},
      "outputs": [
        {
          "data": {
            "text/html": [
              "<div>\n",
              "<style scoped>\n",
              "    .dataframe tbody tr th:only-of-type {\n",
              "        vertical-align: middle;\n",
              "    }\n",
              "\n",
              "    .dataframe tbody tr th {\n",
              "        vertical-align: top;\n",
              "    }\n",
              "\n",
              "    .dataframe thead th {\n",
              "        text-align: right;\n",
              "    }\n",
              "</style>\n",
              "<table border=\"1\" class=\"dataframe\">\n",
              "  <thead>\n",
              "    <tr style=\"text-align: right;\">\n",
              "      <th></th>\n",
              "      <th>Label</th>\n",
              "      <th>Slength</th>\n",
              "      <th>Swidth</th>\n",
              "      <th>Plength</th>\n",
              "      <th>Pwidth</th>\n",
              "      <th>Features.0</th>\n",
              "      <th>Features.1</th>\n",
              "      <th>PredictedLabel</th>\n",
              "      <th>Score.0</th>\n",
              "      <th>Score.1</th>\n",
              "      <th>Score.2</th>\n",
              "    </tr>\n",
              "  </thead>\n",
              "  <tbody>\n",
              "    <tr>\n",
              "      <th>0</th>\n",
              "      <td>0.0</td>\n",
              "      <td>5.1</td>\n",
              "      <td>3.8</td>\n",
              "      <td>1.9</td>\n",
              "      <td>0.4</td>\n",
              "      <td>5.1</td>\n",
              "      <td>3.8</td>\n",
              "      <td>1</td>\n",
              "      <td>0.933407</td>\n",
              "      <td>0.039082</td>\n",
              "      <td>0.027512</td>\n",
              "    </tr>\n",
              "    <tr>\n",
              "      <th>1</th>\n",
              "      <td>2.0</td>\n",
              "      <td>6.2</td>\n",
              "      <td>2.8</td>\n",
              "      <td>4.8</td>\n",
              "      <td>1.8</td>\n",
              "      <td>6.2</td>\n",
              "      <td>2.8</td>\n",
              "      <td>2</td>\n",
              "      <td>0.035626</td>\n",
              "      <td>0.492671</td>\n",
              "      <td>0.471703</td>\n",
              "    </tr>\n",
              "    <tr>\n",
              "      <th>2</th>\n",
              "      <td>0.0</td>\n",
              "      <td>5.0</td>\n",
              "      <td>3.3</td>\n",
              "      <td>1.4</td>\n",
              "      <td>0.2</td>\n",
              "      <td>5.0</td>\n",
              "      <td>3.3</td>\n",
              "      <td>1</td>\n",
              "      <td>0.840371</td>\n",
              "      <td>0.112943</td>\n",
              "      <td>0.046686</td>\n",
              "    </tr>\n",
              "    <tr>\n",
              "      <th>3</th>\n",
              "      <td>1.0</td>\n",
              "      <td>6.4</td>\n",
              "      <td>3.2</td>\n",
              "      <td>4.5</td>\n",
              "      <td>1.5</td>\n",
              "      <td>6.4</td>\n",
              "      <td>3.2</td>\n",
              "      <td>3</td>\n",
              "      <td>0.047715</td>\n",
              "      <td>0.357491</td>\n",
              "      <td>0.594793</td>\n",
              "    </tr>\n",
              "    <tr>\n",
              "      <th>4</th>\n",
              "      <td>0.0</td>\n",
              "      <td>5.1</td>\n",
              "      <td>3.5</td>\n",
              "      <td>1.4</td>\n",
              "      <td>0.3</td>\n",
              "      <td>5.1</td>\n",
              "      <td>3.5</td>\n",
              "      <td>1</td>\n",
              "      <td>0.867433</td>\n",
              "      <td>0.085809</td>\n",
              "      <td>0.046758</td>\n",
              "    </tr>\n",
              "  </tbody>\n",
              "</table>\n",
              "</div>"
            ],
            "text/plain": [
              "   Label  Slength  Swidth  Plength  Pwidth  Features.0  Features.1  \\\n",
              "0    0.0      5.1     3.8      1.9     0.4         5.1         3.8   \n",
              "1    2.0      6.2     2.8      4.8     1.8         6.2         2.8   \n",
              "2    0.0      5.0     3.3      1.4     0.2         5.0         3.3   \n",
              "3    1.0      6.4     3.2      4.5     1.5         6.4         3.2   \n",
              "4    0.0      5.1     3.5      1.4     0.3         5.1         3.5   \n",
              "\n",
              "   PredictedLabel   Score.0   Score.1   Score.2  \n",
              "0               1  0.933407  0.039082  0.027512  \n",
              "1               2  0.035626  0.492671  0.471703  \n",
              "2               1  0.840371  0.112943  0.046686  \n",
              "3               3  0.047715  0.357491  0.594793  \n",
              "4               1  0.867433  0.085809  0.046758  "
            ]
          },
          "execution_count": 17,
          "metadata": {},
          "output_type": "execute_result"
        }
      ],
      "source": [
        "pred = pipe.predict(dftest)\n",
        "pred.head()"
      ]
    },
    {
      "cell_type": "code",
      "execution_count": 17,
      "metadata": {},
      "outputs": [
        {
          "data": {
            "text/plain": [
              "array([[12,  0,  0],\n",
              "       [ 0, 13,  2],\n",
              "       [ 0,  2,  9]], dtype=int64)"
            ]
          },
          "execution_count": 18,
          "metadata": {},
          "output_type": "execute_result"
        }
      ],
      "source": [
        "from sklearn.metrics import confusion_matrix\n",
        "confusion_matrix(dftest[\"Label\"], pred[\"PredictedLabel\"] - 1)"
      ]
    },
    {
      "cell_type": "markdown",
      "metadata": {},
      "source": [
        "## LightGBM\n",
        "\n",
        "[ML.net](https://github.com/dotnet/machinelearning) wraps [LightGBM](https://github.com/Microsoft/LightGBM). Let's use the following classifier [LightGBM Multi-class Classifier](http://www.xavierdupre.fr/app/machinelearningext/helpsphinx/components/LightGBM_Multi-class_Classifier.html)."
      ]
    },
    {
      "cell_type": "code",
      "execution_count": 18,
      "metadata": {},
      "outputs": [],
      "source": [
        "from csharpyml.binaries import CSPipeline\n",
        "pipe = CSPipeline([\"Concat{col=Features:Slength,Swidth}\"], \"LightGBMMC{iter=10}\", verbose=2)\n",
        "pipe.fit(dftrain, \"Features\", \"Label\")"
      ]
    },
    {
      "cell_type": "code",
      "execution_count": 19,
      "metadata": {},
      "outputs": [
        {
          "name": "stdout",
          "output_type": "stream",
          "text": [
            "Auto-tuning parameters: UseCat = False\n",
            "Auto-tuning parameters: LearningRate = 0.2\n",
            "Auto-tuning parameters: NumLeaves = 20\n",
            "Auto-tuning parameters: MinDataPerLeaf = 5\n",
            "Auto-tuning parameters: UseSoftmax = False\n",
            "LightGBM objective=multiclassova\n",
            "Not training a calibrator because it is not needed.\n",
            "\n"
          ]
        }
      ],
      "source": [
        "print(pipe.StdOut)"
      ]
    },
    {
      "cell_type": "code",
      "execution_count": 20,
      "metadata": {},
      "outputs": [
        {
          "data": {
            "text/html": [
              "<div>\n",
              "<style scoped>\n",
              "    .dataframe tbody tr th:only-of-type {\n",
              "        vertical-align: middle;\n",
              "    }\n",
              "\n",
              "    .dataframe tbody tr th {\n",
              "        vertical-align: top;\n",
              "    }\n",
              "\n",
              "    .dataframe thead th {\n",
              "        text-align: right;\n",
              "    }\n",
              "</style>\n",
              "<table border=\"1\" class=\"dataframe\">\n",
              "  <thead>\n",
              "    <tr style=\"text-align: right;\">\n",
              "      <th></th>\n",
              "      <th>Label</th>\n",
              "      <th>Slength</th>\n",
              "      <th>Swidth</th>\n",
              "      <th>Plength</th>\n",
              "      <th>Pwidth</th>\n",
              "      <th>Features.0</th>\n",
              "      <th>Features.1</th>\n",
              "      <th>PredictedLabel</th>\n",
              "      <th>Score.0</th>\n",
              "      <th>Score.1</th>\n",
              "      <th>Score.2</th>\n",
              "    </tr>\n",
              "  </thead>\n",
              "  <tbody>\n",
              "    <tr>\n",
              "      <th>0</th>\n",
              "      <td>2.0</td>\n",
              "      <td>5.8</td>\n",
              "      <td>2.7</td>\n",
              "      <td>5.1</td>\n",
              "      <td>1.9</td>\n",
              "      <td>5.8</td>\n",
              "      <td>2.7</td>\n",
              "      <td>2</td>\n",
              "      <td>0.059821</td>\n",
              "      <td>0.590578</td>\n",
              "      <td>0.349601</td>\n",
              "    </tr>\n",
              "    <tr>\n",
              "      <th>1</th>\n",
              "      <td>2.0</td>\n",
              "      <td>6.4</td>\n",
              "      <td>2.7</td>\n",
              "      <td>5.3</td>\n",
              "      <td>1.9</td>\n",
              "      <td>6.4</td>\n",
              "      <td>2.7</td>\n",
              "      <td>3</td>\n",
              "      <td>0.061349</td>\n",
              "      <td>0.117658</td>\n",
              "      <td>0.820993</td>\n",
              "    </tr>\n",
              "    <tr>\n",
              "      <th>2</th>\n",
              "      <td>0.0</td>\n",
              "      <td>4.6</td>\n",
              "      <td>3.6</td>\n",
              "      <td>1.0</td>\n",
              "      <td>0.2</td>\n",
              "      <td>4.6</td>\n",
              "      <td>3.6</td>\n",
              "      <td>1</td>\n",
              "      <td>0.882437</td>\n",
              "      <td>0.056643</td>\n",
              "      <td>0.060920</td>\n",
              "    </tr>\n",
              "    <tr>\n",
              "      <th>3</th>\n",
              "      <td>1.0</td>\n",
              "      <td>5.5</td>\n",
              "      <td>2.4</td>\n",
              "      <td>3.8</td>\n",
              "      <td>1.1</td>\n",
              "      <td>5.5</td>\n",
              "      <td>2.4</td>\n",
              "      <td>2</td>\n",
              "      <td>0.050467</td>\n",
              "      <td>0.860686</td>\n",
              "      <td>0.088847</td>\n",
              "    </tr>\n",
              "    <tr>\n",
              "      <th>4</th>\n",
              "      <td>2.0</td>\n",
              "      <td>6.4</td>\n",
              "      <td>3.2</td>\n",
              "      <td>5.3</td>\n",
              "      <td>2.3</td>\n",
              "      <td>6.4</td>\n",
              "      <td>3.2</td>\n",
              "      <td>3</td>\n",
              "      <td>0.064739</td>\n",
              "      <td>0.352086</td>\n",
              "      <td>0.583175</td>\n",
              "    </tr>\n",
              "  </tbody>\n",
              "</table>\n",
              "</div>"
            ],
            "text/plain": [
              "   Label  Slength  Swidth  Plength  Pwidth  Features.0  Features.1  \\\n",
              "0    2.0      5.8     2.7      5.1     1.9         5.8         2.7   \n",
              "1    2.0      6.4     2.7      5.3     1.9         6.4         2.7   \n",
              "2    0.0      4.6     3.6      1.0     0.2         4.6         3.6   \n",
              "3    1.0      5.5     2.4      3.8     1.1         5.5         2.4   \n",
              "4    2.0      6.4     3.2      5.3     2.3         6.4         3.2   \n",
              "\n",
              "   PredictedLabel   Score.0   Score.1   Score.2  \n",
              "0               2  0.059821  0.590578  0.349601  \n",
              "1               3  0.061349  0.117658  0.820993  \n",
              "2               1  0.882437  0.056643  0.060920  \n",
              "3               2  0.050467  0.860686  0.088847  \n",
              "4               3  0.064739  0.352086  0.583175  "
            ]
          },
          "execution_count": 21,
          "metadata": {},
          "output_type": "execute_result"
        }
      ],
      "source": [
        "pred2 = pipe.predict(dftest)\n",
        "pred2.head()"
      ]
    },
    {
      "cell_type": "code",
      "execution_count": 21,
      "metadata": {},
      "outputs": [
        {
          "data": {
            "text/plain": [
              "array([[13,  0,  0],\n",
              "       [ 0,  8,  5],\n",
              "       [ 0,  4,  8]], dtype=int64)"
            ]
          },
          "execution_count": 22,
          "metadata": {},
          "output_type": "execute_result"
        }
      ],
      "source": [
        "from sklearn.metrics import confusion_matrix\n",
        "confusion_matrix(dftest[\"Label\"], pred2[\"PredictedLabel\"] - 1)"
      ]
    },
    {
      "cell_type": "code",
      "execution_count": 22,
      "metadata": {},
      "outputs": [
        {
          "data": {
            "image/png": "[encoded data removed]",
            "text/plain": [
              "<Figure size 720x288 with 2 Axes>"
            ]
          },
          "metadata": {
            "needs_background": "light"
          },
          "output_type": "display_data"
        }
      ],
      "source": [
        "from scikitplot.metrics import plot_roc\n",
        "import matplotlib.pyplot as plt\n",
        "fig, ax = plt.subplots(1, 2, figsize=(10,4))\n",
        "plot_roc(dftest[\"Label\"], pred[[\"Score.0\", \"Score.1\", \"Score.2\"]], ax=ax[0])\n",
        "plot_roc(dftest[\"Label\"], pred2[[\"Score.0\", \"Score.1\", \"Score.2\"]], ax=ax[1])\n",
        "ax[0].set_title(\"MLR\")\n",
        "ax[1].set_title(\"LightGBM\");"
      ]
    },
    {
      "cell_type": "code",
      "execution_count": 23,
      "metadata": {},
      "outputs": [],
      "source": []
    }
  ],
  "metadata": {
    "kernelspec": {
      "display_name": "Python 3",
      "language": "python",
      "name": "python3"
    },
    "language_info": {
      "codemirror_mode": {
        "name": "ipython",
        "version": 3
      },
      "file_extension": ".py",
      "mimetype": "text/x-python",
      "name": "python",
      "nbconvert_exporter": "python",
      "pygments_lexer": "ipython3",
      "version": "3.7.0"
    }
  },
  "nbformat": 4,
  "nbformat_minor": 1
}