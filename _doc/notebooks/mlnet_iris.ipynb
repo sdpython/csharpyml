{
  "cells": [
    {
      "cell_type": "markdown",
      "metadata": {},
      "source": [
        "# Iris with ML.net\n",
        "\n",
        "The notebook exposes the C# API for [ML.net](https://github.com/dotnet/machinelearning) with the uses of magic command ``%%mlnet``."
      ]
    },
    {
      "cell_type": "code",
      "execution_count": 1,
      "metadata": {},
      "outputs": [],
      "source": [
        "%load_ext csharpyml"
      ]
    },
    {
      "cell_type": "markdown",
      "metadata": {},
      "source": [
        "Let's first save a dataset."
      ]
    },
    {
      "cell_type": "code",
      "execution_count": 2,
      "metadata": {},
      "outputs": [],
      "source": [
        "from sklearn import datasets\n",
        "import pandas\n",
        "iris = datasets.load_iris()\n",
        "X = iris.data\n",
        "y = iris.target\n",
        "df = pandas.DataFrame(\n",
        "    X, columns=['Slength', 'Swidth', 'Plength', 'Pwidth'])\n",
        "df[\"Label\"] = y\n",
        "df = df[[\"Label\"] + ['Slength', 'Swidth', 'Plength', 'Pwidth']]\n",
        "dest = \"iris_data.txt\"\n",
        "df.to_csv(dest, sep=',', index=False)"
      ]
    },
    {
      "cell_type": "code",
      "execution_count": 3,
      "metadata": {},
      "outputs": [
        {
          "data": {
            "text/html": [
              "<div id=\"my_id_menu_nb\">run previous cell, wait for 2 seconds</div>\n",
              "<script>\n",
              "function repeat_indent_string(n){\n",
              "    var a = \"\" ;\n",
              "    for ( ; n > 0 ; --n)\n",
              "        a += \"    \";\n",
              "    return a;\n",
              "}\n",
              "// look up into all sections and builds an automated menu //\n",
              "var update_menu_string = function(begin, lfirst, llast, sformat, send, keep_item, begin_format, end_format) {\n",
              "    var anchors = document.getElementsByClassName(\"section\");\n",
              "    if (anchors.length == 0) {\n",
              "        anchors = document.getElementsByClassName(\"text_cell_render rendered_html\");\n",
              "    }\n",
              "    var i,t;\n",
              "    var text_menu = begin;\n",
              "    var text_memo = \"<pre>\\nlength:\" + anchors.length + \"\\n\";\n",
              "    var ind = \"\";\n",
              "    var memo_level = 1;\n",
              "    var href;\n",
              "    var tags = [];\n",
              "    var main_item = 0;\n",
              "    var format_open = 0;\n",
              "    for (i = 0; i <= llast; i++)\n",
              "        tags.push(\"h\" + i);\n",
              "\n",
              "    for (i = 0; i < anchors.length; i++) {\n",
              "        text_memo += \"**\" + anchors[i].id + \"--\\n\";\n",
              "\n",
              "        var child = null;\n",
              "        for(t = 0; t < tags.length; t++) {\n",
              "            var r = anchors[i].getElementsByTagName(tags[t]);\n",
              "            if (r.length > 0) {\n",
              "child = r[0];\n",
              "break;\n",
              "            }\n",
              "        }\n",
              "        if (child == null) {\n",
              "            text_memo += \"null\\n\";\n",
              "            continue;\n",
              "        }\n",
              "        if (anchors[i].hasAttribute(\"id\")) {\n",
              "            // when converted in RST\n",
              "            href = anchors[i].id;\n",
              "            text_memo += \"#1-\" + href;\n",
              "            // passer \u00e0 child suivant (le chercher)\n",
              "        }\n",
              "        else if (child.hasAttribute(\"id\")) {\n",
              "            // in a notebook\n",
              "            href = child.id;\n",
              "            text_memo += \"#2-\" + href;\n",
              "        }\n",
              "        else {\n",
              "            text_memo += \"#3-\" + \"*\" + \"\\n\";\n",
              "            continue;\n",
              "        }\n",
              "        var title = child.textContent;\n",
              "        var level = parseInt(child.tagName.substring(1,2));\n",
              "\n",
              "        text_memo += \"--\" + level + \"?\" + lfirst + \"--\" + title + \"\\n\";\n",
              "\n",
              "        if ((level < lfirst) || (level > llast)) {\n",
              "            continue ;\n",
              "        }\n",
              "        if (title.endsWith('\u00b6')) {\n",
              "            title = title.substring(0,title.length-1).replace(\"<\", \"&lt;\")\n",
              "         .replace(\">\", \"&gt;\").replace(\"&\", \"&amp;\");\n",
              "        }\n",
              "        if (title.length == 0) {\n",
              "            continue;\n",
              "        }\n",
              "\n",
              "        while (level < memo_level) {\n",
              "            text_menu += end_format + \"</ul>\\n\";\n",
              "            format_open -= 1;\n",
              "            memo_level -= 1;\n",
              "        }\n",
              "        if (level == lfirst) {\n",
              "            main_item += 1;\n",
              "        }\n",
              "        if (keep_item != -1 && main_item != keep_item + 1) {\n",
              "            // alert(main_item + \" - \" + level + \" - \" + keep_item);\n",
              "            continue;\n",
              "        }\n",
              "        while (level > memo_level) {\n",
              "            text_menu += \"<ul>\\n\";\n",
              "            memo_level += 1;\n",
              "        }\n",
              "        text_menu += repeat_indent_string(level-2);\n",
              "        text_menu += begin_format + sformat.replace(\"__HREF__\", href).replace(\"__TITLE__\", title);\n",
              "        format_open += 1;\n",
              "    }\n",
              "    while (1 < memo_level) {\n",
              "        text_menu += end_format + \"</ul>\\n\";\n",
              "        memo_level -= 1;\n",
              "        format_open -= 1;\n",
              "    }\n",
              "    text_menu += send;\n",
              "    //text_menu += \"\\n\" + text_memo;\n",
              "\n",
              "    while (format_open > 0) {\n",
              "        text_menu += end_format;\n",
              "        format_open -= 1;\n",
              "    }\n",
              "    return text_menu;\n",
              "};\n",
              "var update_menu = function() {\n",
              "    var sbegin = \"\";\n",
              "    var sformat = '<a href=\"#__HREF__\">__TITLE__</a>';\n",
              "    var send = \"\";\n",
              "    var begin_format = '<li>';\n",
              "    var end_format = '</li>';\n",
              "    var keep_item = -1;\n",
              "    var text_menu = update_menu_string(sbegin, 2, 4, sformat, send, keep_item,\n",
              "       begin_format, end_format);\n",
              "    var menu = document.getElementById(\"my_id_menu_nb\");\n",
              "    menu.innerHTML=text_menu;\n",
              "};\n",
              "window.setTimeout(update_menu,2000);\n",
              "            </script>"
            ],
            "text/plain": [
              "<IPython.core.display.HTML object>"
            ]
          },
          "execution_count": 4,
          "metadata": {},
          "output_type": "execute_result"
        }
      ],
      "source": [
        "from jyquickhelper import add_notebook_menu\n",
        "add_notebook_menu()"
      ]
    },
    {
      "cell_type": "markdown",
      "metadata": {},
      "source": [
        "## CSharp\n",
        "\n",
        "The following code exposes one function called ``ReturnMLClass`` which returns a simple class with two methods ``Train`` and ``Predict``. [pythonnet](http://pythonnet.github.io/) binds them to python to allow the user to call them."
      ]
    },
    {
      "cell_type": "code",
      "execution_count": 4,
      "metadata": {
        "scrolled": false
      },
      "outputs": [
        {
          "data": {
            "text/plain": [
              "<function csharpy.runtime.compile.create_cs_function.<locals>.<lambda>(*params)>"
            ]
          },
          "execution_count": 5,
          "metadata": {},
          "output_type": "execute_result"
        }
      ],
      "source": [
        "%%mlnet ReturnMLClass\n",
        "\n",
        "public class IrisObservation\n",
        "{\n",
        "    [Column(\"0\")]\n",
        "    [ColumnName(\"Label\")]\n",
        "    public string Label;\n",
        "\n",
        "    [Column(\"1\")]\n",
        "    public float Sepal_length;\n",
        "\n",
        "    [Column(\"2\")]\n",
        "    public float Sepal_width;\n",
        "\n",
        "    [Column(\"3\")]\n",
        "    public float Petal_length;\n",
        "\n",
        "    [Column(\"4\")]\n",
        "    public float Petal_width;\n",
        "}\n",
        "\n",
        "public class IrisPrediction\n",
        "{\n",
        "    public uint PredictedLabel;\n",
        "\n",
        "    [VectorType(4)]\n",
        "    public float[] Score;\n",
        "}\n",
        "\n",
        "public class TrainTestIris\n",
        "{\n",
        "    string _dataset;\n",
        "    PredictionFunction<IrisObservation, IrisPrediction> _fct;\n",
        "\n",
        "    public TrainTestIris(string iris)\n",
        "    {\n",
        "        _dataset = iris;\n",
        "    }\n",
        "\n",
        "    public void Train(string dest)\n",
        "    {\n",
        "        using (var env = new ConsoleEnvironment(verbose:false))\n",
        "        {\n",
        "            var args = new TextLoader.Arguments()\n",
        "            {\n",
        "                Separator = \",\",\n",
        "                HasHeader = true,\n",
        "                Column = new TextLoader.Column[] {\n",
        "                    new TextLoader.Column(\"Label\", DataKind.R4, 0),\n",
        "                    new TextLoader.Column(\"Sepal_length\", DataKind.R4, 1),\n",
        "                    new TextLoader.Column(\"Sepal_width\", DataKind.R4, 2),\n",
        "                    new TextLoader.Column(\"Petal_length\", DataKind.R4, 3),\n",
        "                    new TextLoader.Column(\"Petal_width\", DataKind.R4, 4),\n",
        "                }\n",
        "            };\n",
        "\n",
        "            var reader = new TextLoader(env, args);\n",
        "            var concat = new ColumnConcatenatingEstimator(env,\n",
        "                                                          \"Features\", \"Sepal_length\",\n",
        "                                                          \"Sepal_width\", \"Petal_length\", \"Petal_width\");\n",
        "            var km = new MulticlassLogisticRegression(env, \"Label\", \"Features\");\n",
        "            var pipeline = concat.Append(km);\n",
        "\n",
        "            IDataView trainingDataView = reader.Read(new MultiFileSource(_dataset));\n",
        "            var model = pipeline.Fit(trainingDataView);\n",
        "\n",
        "            var obs = new IrisObservation()\n",
        "            {\n",
        "                Sepal_length = 3.3f,\n",
        "                Sepal_width = 1.6f,\n",
        "                Petal_length = 0.2f,\n",
        "                Petal_width = 5.1f,\n",
        "            };\n",
        "\n",
        "            _fct = model.MakePredictionFunction<IrisObservation, IrisPrediction>(env);\n",
        "            using(var stdest = File.OpenWrite(dest))\n",
        "                model.SaveTo(env, stdest);\n",
        "        }\n",
        "    }\n",
        "\n",
        "    public IrisPrediction Predict(double sl, double sw, double pl, double pw)\n",
        "    {\n",
        "        var obs = new IrisObservation()\n",
        "        {\n",
        "            Sepal_length = (float)sl,\n",
        "            Sepal_width = (float)sw,\n",
        "            Petal_length = (float)pl,\n",
        "            Petal_width = (float)pw,\n",
        "        };\n",
        "        return _fct.Predict(obs);\n",
        "    }\n",
        "}\n",
        "\n",
        "public static TrainTestIris ReturnMLClass(string ds)\n",
        "{ \n",
        "    return new TrainTestIris(ds);\n",
        "}   "
      ]
    },
    {
      "cell_type": "code",
      "execution_count": 5,
      "metadata": {},
      "outputs": [],
      "source": [
        "obj = ReturnMLClass(\"iris_data.txt\")"
      ]
    },
    {
      "cell_type": "code",
      "execution_count": 6,
      "metadata": {},
      "outputs": [
        {
          "name": "stdout",
          "output_type": "stream",
          "text": [
            "Label column 'Label' is not compatible\n",
            "   \u00e0 Microsoft.ML.Runtime.Training.TrainerEstimatorBase`2.CheckLabelCompatible(Column labelCol)\r\n",
            "   \u00e0 Microsoft.ML.Runtime.Training.TrainerEstimatorBase`2.CheckInputSchema(SchemaShape inputSchema)\r\n",
            "   \u00e0 Microsoft.ML.Runtime.Training.TrainerEstimatorBase`2.GetOutputSchema(SchemaShape inputSchema)\r\n",
            "   \u00e0 Microsoft.ML.Runtime.Data.EstimatorChain`1.GetOutputSchema(SchemaShape inputSchema)\r\n",
            "   \u00e0 Microsoft.ML.Runtime.Data.EstimatorChain`1.Fit(IDataView input)\r\n",
            "   \u00e0 DynamicCS.DynamicCSFunctions_ReturnMLClass.TrainTestIris.Train(String dest)\n"
          ]
        }
      ],
      "source": [
        "try:\n",
        "    obj.Train(\"model_iris_mlnet.zip\")\n",
        "except Exception as e:\n",
        "    print(e)"
      ]
    },
    {
      "cell_type": "code",
      "execution_count": 7,
      "metadata": {},
      "outputs": [
        {
          "name": "stdout",
          "output_type": "stream",
          "text": [
            "La r\u00e9f\u00e9rence d'objet n'est pas d\u00e9finie \u00e0 une instance d'un objet.\n",
            "   \u00e0 DynamicCS.DynamicCSFunctions_ReturnMLClass.TrainTestIris.Predict(Double sl, Double sw, Double pl, Double pw)\n"
          ]
        }
      ],
      "source": [
        "try:\n",
        "    res = obj.Predict(4.5, 3.4, 3.4, 7.8)\n",
        "    res.PredictedLabel, list(res.Score)\n",
        "    print(res.PredictedLabel, list(res.Score))\n",
        "except Exception as e:\n",
        "    print(e)"
      ]
    },
    {
      "cell_type": "markdown",
      "metadata": {},
      "source": [
        "## Python with NimbusML\n",
        "\n",
        "[nimbusml](https://docs.microsoft.com/en-us/nimbusml/overview) is an open source python binding for [ML.net](https://github.com/dotnet/machinelearning). The following example would become."
      ]
    },
    {
      "cell_type": "code",
      "execution_count": 8,
      "metadata": {},
      "outputs": [],
      "source": [
        "import numpy\n",
        "df[\"Label\"] = df.Label.astype(numpy.float32)"
      ]
    },
    {
      "cell_type": "code",
      "execution_count": 9,
      "metadata": {},
      "outputs": [
        {
          "name": "stdout",
          "output_type": "stream",
          "text": [
            "Automatically adding a MinMax normalization transform, use 'norm=Warn' or 'norm=No' to turn this behavior off.\n",
            "LBFGS multi-threading will attempt to load dataset into memory. In case of out-of-memory issues, turn off multi-threading by setting trainThreads to 1.\n",
            "Beginning optimization\n",
            "num vars: 24\n",
            "improvement criterion: Mean Improvement\n",
            "L1 regularization selected 16 of 24 weights.\n",
            "Not training a calibrator because it is not needed.\n",
            "Elapsed time: 00:00:03.2281790\n"
          ]
        },
        {
          "data": {
            "text/plain": [
              "<nimbusml.pipeline.Pipeline at 0x13045c14eb8>"
            ]
          },
          "execution_count": 10,
          "metadata": {},
          "output_type": "execute_result"
        }
      ],
      "source": [
        "import nimbusml\n",
        "from nimbusml import Pipeline\n",
        "from nimbusml.linear_model import LogisticRegressionClassifier\n",
        "\n",
        "pipe = Pipeline([LogisticRegressionClassifier()])\n",
        "pipe.fit(df)"
      ]
    },
    {
      "cell_type": "code",
      "execution_count": 10,
      "metadata": {},
      "outputs": [],
      "source": [
        "pred = pipe.predict_proba(df, verbose=0)"
      ]
    },
    {
      "cell_type": "code",
      "execution_count": 11,
      "metadata": {},
      "outputs": [
        {
          "data": {
            "text/plain": [
              "array([[0.93744504, 0.0333313 , 0.02922361],\n",
              "       [0.93744504, 0.0333313 , 0.02922361],\n",
              "       [0.9379973 , 0.03308264, 0.02892021],\n",
              "       [0.9368883 , 0.03358165, 0.02953005],\n",
              "       [0.93744504, 0.0333313 , 0.02922361]], dtype=float32)"
            ]
          },
          "execution_count": 12,
          "metadata": {},
          "output_type": "execute_result"
        }
      ],
      "source": [
        "pred[:5]"
      ]
    },
    {
      "cell_type": "code",
      "execution_count": 12,
      "metadata": {},
      "outputs": [],
      "source": [
        "pipe.save_model(\"model_iris_nimbusml.zip\")"
      ]
    },
    {
      "cell_type": "markdown",
      "metadata": {},
      "source": [
        "## Back to ML.net\n",
        "\n",
        "We can use this model back into [ML.net](https://github.com/dotnet/machinelearning) in C#."
      ]
    },
    {
      "cell_type": "code",
      "execution_count": 13,
      "metadata": {
        "scrolled": false
      },
      "outputs": [
        {
          "data": {
            "text/plain": [
              "<function csharpy.runtime.compile.create_cs_function.<locals>.<lambda>(*params)>"
            ]
          },
          "execution_count": 14,
          "metadata": {},
          "output_type": "execute_result"
        }
      ],
      "source": [
        "%%mlnet ScoreIris\n",
        "\n",
        "public class IrisObservation\n",
        "{\n",
        "    [Column(\"0\")]\n",
        "    [ColumnName(\"Label\")]\n",
        "    public string Label;\n",
        "\n",
        "    [Column(\"1\")]\n",
        "    public float Sepal_length;\n",
        "\n",
        "    [Column(\"2\")]\n",
        "    public float Sepal_width;\n",
        "\n",
        "    [Column(\"3\")]\n",
        "    public float Petal_length;\n",
        "\n",
        "    [Column(\"4\")]\n",
        "    public float Petal_width;\n",
        "}\n",
        "\n",
        "public class IrisPrediction\n",
        "{\n",
        "    public uint PredictedLabel;\n",
        "\n",
        "    [VectorType(4)]\n",
        "    public float[] Score;\n",
        "}\n",
        "\n",
        "public static IrisPrediction ScoreIris(double sl, double sw, double pl, double pw)\n",
        "{\n",
        "    var obs = new IrisObservation()\n",
        "    {\n",
        "        Sepal_length = (float)sl,\n",
        "        Sepal_width = (float)sw,\n",
        "        Petal_length = (float)pl,\n",
        "        Petal_width = (float)pw,\n",
        "    };\n",
        "\n",
        "    var modelName = \"model_iris_mlnet.zip\";\n",
        "    var context = new Microsoft.ML.MLContext();\n",
        "    using (var st = File.OpenRead(modelName))\n",
        "    {\n",
        "        var model = context.Model.Load(st);\n",
        "        using (var env = new ConsoleEnvironment())\n",
        "        {\n",
        "            var scorer = model.MakePredictionFunction<IrisObservation, IrisPrediction>(env);\n",
        "            var singlePrediction = scorer.Predict(obs);\n",
        "            return singlePrediction;\n",
        "        }\n",
        "    }\n",
        "}"
      ]
    },
    {
      "cell_type": "code",
      "execution_count": 14,
      "metadata": {},
      "outputs": [
        {
          "data": {
            "text/plain": [
              "(3, [8.637699e-06, 7.612758e-05, 0.9999151])"
            ]
          },
          "execution_count": 15,
          "metadata": {},
          "output_type": "execute_result"
        }
      ],
      "source": [
        "obj2 = ScoreIris(4.5, 3.4, 3.4, 7.8)\n",
        "obj2.PredictedLabel, list(obj2.Score)"
      ]
    },
    {
      "cell_type": "code",
      "execution_count": 15,
      "metadata": {},
      "outputs": [],
      "source": []
    }
  ],
  "metadata": {
    "kernelspec": {
      "display_name": "Python 3",
      "language": "python",
      "name": "python3"
    },
    "language_info": {
      "codemirror_mode": {
        "name": "ipython",
        "version": 3
      },
      "file_extension": ".py",
      "mimetype": "text/x-python",
      "name": "python",
      "nbconvert_exporter": "python",
      "pygments_lexer": "ipython3",
      "version": "3.7.0"
    }
  },
  "nbformat": 4,
  "nbformat_minor": 2
}